{
  "nbformat": 4,
  "nbformat_minor": 0,
  "metadata": {
    "colab": {
      "provenance": []
    },
    "kernelspec": {
      "name": "python3",
      "display_name": "Python 3"
    },
    "language_info": {
      "name": "python"
    }
  },
  "cells": [
    {
      "cell_type": "markdown",
      "source": [
        "# **Exploring Job Market Data Using Word Clouds and Waffle Charts**\n",
        "Date: Oct 21, 2025\n",
        "\n",
        "  *   Estimated time needed: 45-60 minutes\n",
        "      *   Part 1 : Word Clouds: 10 minutes\n",
        "      *   Part 2 : Waffle Charts: 15 minutes\n",
        "      *   Part 3 : Data Insights: 30 minutes\n",
        "\n",
        "# **Introduction**\n",
        "\n",
        "This short lab uses a simulated dataset of Canadian job listings.\n",
        "You’ll practice turning data into visuals that tell a story — first with Word Clouds (text frequency), then Waffle Charts (proportion). The goal is to gain quick insights about which jobs and provinces dominate hiring, and how company size and salary affect distribution.\n",
        "\n",
        "# **Objectives**\n",
        "\n",
        "    After completing this lab, you will be able to:\n",
        "      *   Import and explore a CSV dataset using Pandas\n",
        "      *   Pre-process and wrangle data for visualization\n",
        "      *   Generate a << Word Cloud >> to visualize top job titles in Canada\n",
        "      *   Create << Waffle Charts >> to represent proportional job distribution\n",
        "      *   Apply grouping, aggregation, and filtering techniques for deeper insights\n",
        "      *   Identify key job market patterns across provinces\n",
        "\n",
        "\n",
        "\n",
        "\n"
      ],
      "metadata": {
        "id": "O7YptEQBhxIh"
      }
    },
    {
      "cell_type": "markdown",
      "source": [
        "# **Dataset Overview - Canada Statistic Demo**\n",
        "> ![Column_Meaning.png](data:image/png;base64,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)"
      ],
      "metadata": {
        "id": "YrVL4vabiGCZ"
      }
    },
    {
      "cell_type": "markdown",
      "source": [
        "# **What story does your data tell you now?**"
      ],
      "metadata": {
        "id": "yIET3XAvm7Ph"
      }
    },
    {
      "cell_type": "markdown",
      "source": [
        "**1. Libraries**"
      ],
      "metadata": {
        "id": "HkQbvAoToy3g"
      }
    },
    {
      "cell_type": "code",
      "source": [
        "# Get the Time Stamp\n",
        "from datetime import datetime\n",
        "import pytz\n",
        "\n",
        "def get_timestamp():\n",
        "    local_tz = pytz.timezone(\"America/Halifax\")  # Set timezone to Halifax\n",
        "    local_time = datetime.now(local_tz)  # Get current Halifax time\n",
        "    mytime = local_time.strftime(\"%Y-%m%d_%H:%M:%S\")  # Create timestamp\n",
        "    return mytime"
      ],
      "metadata": {
        "id": "hotej8LErg6Q"
      },
      "execution_count": null,
      "outputs": []
    },
    {
      "cell_type": "code",
      "source": [
        "# ===============================\n",
        "#  Libraries for this Lab\n",
        "#  (Canada Job Statistics Demo)\n",
        "# ===============================\n",
        "\n",
        "# Data handling\n",
        "import pandas as pd\n",
        "import numpy as np\n",
        "from IPython.display import display # Interactive / dynamic charts\n",
        "\n",
        "# Visualization\n",
        "import matplotlib.pyplot as plt\n",
        "import matplotlib as mpl\n",
        "import seaborn as sns\n",
        "import ipywidgets as widgets #create Interactive / dynamic charts (like dropdown menus, sliders, checkboxes, text boxes, etc)\n",
        "%matplotlib inline\n",
        "%pip install pywaffle\n",
        "\n",
        "# Additional visualization tools\n",
        "from wordcloud import WordCloud # create static wordclouds\n",
        "from pywaffle import Waffle # create static waffle charts\n",
        "\n",
        "# Statistics (optional, for correlation / insight charts)\n",
        "from scipy import stats\n",
        "\n",
        "# Ignore warnings for cleaner output\n",
        "import warnings\n",
        "warnings.filterwarnings('ignore')\n",
        "\n",
        "# Optional\n",
        "mpl.style.use('ggplot')  # Matplotlib style, ggplot-like theme\n",
        "mytime = get_timestamp() # Time Stamp\n",
        "\n",
        "print(f\"\\n\\n| All Packages Ready\")\n",
        "print(f\"| Matplotlib version: {mpl.__version__} (>= 2.0.0)\")\n",
        "print(f\"| {mytime}\")\n"
      ],
      "metadata": {
        "id": "DG545LkRox1Z"
      },
      "execution_count": null,
      "outputs": []
    },
    {
      "cell_type": "code",
      "source": [
        "url = 'https://raw.githubusercontent.com/dannypctang528/Data-Visualization/main/Canada_Statistic_Demo.csv'\n",
        "df = pd.read_csv(url)\n",
        "\n",
        "print(\"| Dataset loaded successfully!\")\n",
        "print(f\"| Total rows: {df.shape[0]}, Total columns: {df.shape[1]}\\n\\n\")\n",
        "display(df.head())"
      ],
      "metadata": {
        "id": "i6cAHOvFxUd1"
      },
      "execution_count": null,
      "outputs": []
    },
    {
      "cell_type": "code",
      "source": [
        "# Optional \\\\ Data Verification \\\\ Check columns\n",
        "# Type you code here #\n",
        "\n",
        "\n"
      ],
      "metadata": {
        "id": "gPC3-qzX1VvC"
      },
      "execution_count": null,
      "outputs": []
    },
    {
      "cell_type": "markdown",
      "metadata": {
        "id": "cac7b771-e500-447c-a605-1bc434d46053"
      },
      "source": [
        "<details><summary>Click here for a sample python solution</summary>\n",
        "\n",
        "```python\n",
        "# my code\n",
        "print(df.columns)\n",
        "    \n",
        "```\n",
        "</details>\n"
      ]
    },
    {
      "cell_type": "code",
      "source": [
        "# Optional \\\\ Data Verification \\\\ Check data types\n",
        "# Type you code here #\n",
        "\n",
        "\n"
      ],
      "metadata": {
        "id": "BpipWethyia8"
      },
      "execution_count": null,
      "outputs": []
    },
    {
      "cell_type": "markdown",
      "metadata": {
        "id": "SF3fMAk2InpT"
      },
      "source": [
        "<details><summary>Click here for a sample python solution</summary>\n",
        "\n",
        "```python\n",
        "# my code\n",
        "print(df.dtypes)\n",
        "    \n",
        "```\n",
        "</details>\n"
      ]
    },
    {
      "cell_type": "code",
      "source": [
        "# Optional \\\\ Data Verification \\\\ Check data Statistic Summary\n",
        "# Type you code here #\n",
        "\n",
        "\n"
      ],
      "metadata": {
        "id": "1zoZ1C810FLI"
      },
      "execution_count": null,
      "outputs": []
    },
    {
      "cell_type": "markdown",
      "metadata": {
        "id": "wih3IrLUI8lt"
      },
      "source": [
        "<details><summary>Click here for a sample python solution</summary>\n",
        "\n",
        "```python\n",
        "# my code\n",
        "print(df.describe().round(2))\n",
        "    \n",
        "```\n",
        "</details>\n"
      ]
    },
    {
      "cell_type": "markdown",
      "source": [
        "# **Part 1**\n",
        "\n",
        "Assume there is none of abnormal data"
      ],
      "metadata": {
        "id": "v7fL7CwN026z"
      }
    },
    {
      "cell_type": "code",
      "source": [
        "# Prepare the data for word clouds\n",
        "# Type you code here #\n",
        "# tips: To load 'Job_Title' into a list (named 'job_list') >> combine all job title into a string (named 'all_jobs')\n",
        "\n",
        "\n"
      ],
      "metadata": {
        "id": "zgaiIT8b2fKu"
      },
      "execution_count": null,
      "outputs": []
    },
    {
      "cell_type": "markdown",
      "metadata": {
        "id": "Rso-Q1PWJ7rq"
      },
      "source": [
        "<details><summary>Click here for a sample python solution</summary>\n",
        "\n",
        "```python\n",
        "# my code\n",
        "\n",
        "# from wordcloud import WordCloud  // Already done by initial stage\n",
        "# import matplotlib.pyplot as plt  // Already done by initial stage\n",
        "\n",
        "# Create empty objects\n",
        "job_list=[]\n",
        "all_jobs=[]\n",
        "\n",
        "# Combine all job titles into one string, separated by ','\n",
        "job_list = df['Job_Title'].astype(str).tolist()\n",
        "all_jobs = \",\".join(job_list)\n",
        "\n",
        "# Optional: Quick check\n",
        "print(f\"Total job titles combined: {len(all_jobs.split(\",\"))}\")\n",
        "mytime = get_timestamp()\n",
        "print(f\"  | {mytime}\")\n",
        "    \n",
        "```\n",
        "</details>\n"
      ]
    },
    {
      "cell_type": "code",
      "source": [
        "# Generate Word Cloud\n",
        "# Type you code here #\n",
        "\n",
        "\n"
      ],
      "metadata": {
        "id": "-7saCYKVGRBO"
      },
      "execution_count": null,
      "outputs": []
    },
    {
      "cell_type": "markdown",
      "metadata": {
        "id": "twDk3ANpKIkp"
      },
      "source": [
        "<details><summary>Click here for a sample python solution</summary>\n",
        "\n",
        "```python\n",
        "# my code\n",
        "\n",
        "# Generate Canada-wide Word Cloud\n",
        "wc_all = WordCloud(\n",
        "    width=1200,\n",
        "    height=800,\n",
        "    background_color='Black',\n",
        "    colormap='tab10',\n",
        "    max_words=200\n",
        ").generate(all_jobs)\n",
        "\n",
        "plt.figure(figsize=(10,4))\n",
        "plt.imshow(wc_all, interpolation='bilinear')\n",
        "plt.axis('off')\n",
        "plt.title('High Job Demands in Canada (All Provinces)', fontsize=20)\n",
        "plt.show()\n",
        "\n",
        "\n",
        "# Optional\n",
        "mytime = get_timestamp()\n",
        "print(f\"  | {mytime}\")\n",
        "\n",
        "#Bonus:\n",
        "# Colormap options: 'tab10','Set2','Accent','Paired','Dark2','viridis','plasma','cividis','magma','inferno','coolwarm','RdYlGn','PiYG'\n",
        "# plt.imshow options: nearest,bilinear,bicubic,lanczos\n",
        "# Word Clouds can be shaped as a circular....\n",
        "\n",
        "```\n",
        "</details>\n"
      ]
    },
    {
      "cell_type": "markdown",
      "source": [
        "Question: Which job titles appear most frequently?"
      ],
      "metadata": {
        "id": "gJd_kLRParRx"
      }
    },
    {
      "cell_type": "markdown",
      "source": [
        "\n",
        "\n",
        "---\n",
        "\n"
      ],
      "metadata": {
        "id": "jUsDBP9Zavgp"
      }
    },
    {
      "cell_type": "markdown",
      "source": [
        "# **Part 1 Bonus**\n",
        "What is the Top Job Demands by Provinces?"
      ],
      "metadata": {
        "id": "Q3IvKQ08OM1i"
      }
    },
    {
      "cell_type": "code",
      "source": [
        "import ipywidgets as widgets\n",
        "\n",
        "province_dropdown = widgets.Dropdown(\n",
        "    options=sorted(df['Province'].unique()),\n",
        "    description='Province:',\n",
        "    style={'description_width': 'initial'},\n",
        "    layout=widgets.Layout(width='30%')\n",
        ")"
      ],
      "metadata": {
        "id": "5gyORXgYPBey"
      },
      "execution_count": null,
      "outputs": []
    },
    {
      "cell_type": "code",
      "source": [
        "def update_wordcloud(selected_province):\n",
        "    # Filter dataset by province\n",
        "    df_prov = df[df['Province'] == selected_province]\n",
        "\n",
        "    # Combine job titles (weighted by vacancies for realism)\n",
        "    text = \" \".join(\n",
        "        df_prov.loc[df_prov.index.repeat(df_prov['Vacancies'])]['Job_Title'].astype(str)\n",
        "    )\n",
        "\n",
        "    # Generate Word Clouds\n",
        "    wc = WordCloud(\n",
        "        background_color='white',\n",
        "        colormap='Dark2',\n",
        "        width=1000,\n",
        "        height=600,\n",
        "        max_words=1000\n",
        "    ).generate(text)\n",
        "\n",
        "    # Optional\n",
        "    mytime = get_timestamp()\n",
        "    #print(f\"  | {mytime}\")\n",
        "\n",
        "    # Display\n",
        "    plt.figure(figsize=(10,4))\n",
        "    plt.imshow(wc, interpolation='bilinear')\n",
        "    plt.axis('off')\n",
        "    plt.title(f\"High Job Demands in {selected_province} \\n| {mytime} |\", fontsize=20)\n",
        "    plt.show()\n"
      ],
      "metadata": {
        "id": "CAlSg4oWPPAq"
      },
      "execution_count": null,
      "outputs": []
    },
    {
      "cell_type": "code",
      "source": [
        "widgets.interact(update_wordcloud, selected_province=province_dropdown)\n"
      ],
      "metadata": {
        "id": "fqRTEQJYPRzy"
      },
      "execution_count": null,
      "outputs": []
    },
    {
      "cell_type": "markdown",
      "source": [
        "Question: Which job titles appear most frequently in your selected province?"
      ],
      "metadata": {
        "id": "X4Yl6Yhmeoaj"
      }
    },
    {
      "cell_type": "markdown",
      "source": [
        "\n",
        "\n",
        "---\n",
        "\n"
      ],
      "metadata": {
        "id": "RWrFpfCUGxG_"
      }
    },
    {
      "cell_type": "markdown",
      "source": [
        "# **Part 2**\n",
        "\n",
        "Prepare Data for Waffle Chart\n",
        " 1. Aggregate\n",
        " 2. Group by 'Job_Type'\n",
        " 3. Optional: Sort ascending"
      ],
      "metadata": {
        "id": "2p1_wB1aSKG2"
      }
    },
    {
      "cell_type": "code",
      "source": [
        "# Aggregate and sort by total vacancies\n",
        "### Line 1: df_jobtype = (...................)\n",
        "\n",
        "\n",
        "# Convert to dictionary and normalization\n",
        "### Line 1\n",
        "### Line 2\n",
        "### Line 3s\n",
        "\n",
        "\n",
        "# Create sorted labels (optional but helps alignment)\n",
        "### Line 1 sorted_labels = [ ]\n",
        "\n",
        "# Aggregate and sort by total vacancies\n",
        "df_jobtype = (\n",
        "    df.groupby('Job_Type', as_index=False)['Vacancies']\n",
        "    .sum()\n",
        "    .sort_values(by='Vacancies', ascending=False)\n",
        ")\n",
        "\n"
      ],
      "metadata": {
        "id": "aN4Aaq3cgjIb"
      },
      "execution_count": null,
      "outputs": []
    },
    {
      "cell_type": "markdown",
      "metadata": {
        "id": "kcHjhhnZHSsT"
      },
      "source": [
        "<details><summary>Click here for a sample python solution</summary>\n",
        "\n",
        "```python\n",
        "# my code\n",
        "\n",
        "# Aggregate and sort by total vacancies\n",
        "df_jobtype = (\n",
        "    df.groupby('Job_Type', as_index=False)['Vacancies']\n",
        "    .sum()\n",
        "    .sort_values(by='Vacancies', ascending=False)\n",
        ")\n",
        "\n",
        "# Convert to dictionary and normalization\n",
        "data_dict = df_jobtype.set_index('Job_Type')['Vacancies'].to_dict()\n",
        "total = sum(data_dict.values())\n",
        "data_percent = {k: v / total * 100 for k, v in data_dict.items()}\n",
        "\n",
        "# Create sorted labels (optional but helps alignment)\n",
        "sorted_labels = [f\"{k} ({v:.1f}%)\" for k, v in data_percent.items()]\n",
        "\n",
        "```\n",
        "</details>\n"
      ]
    },
    {
      "cell_type": "code",
      "source": [
        "# Convert colors to a list\n",
        "\n",
        "# Build Waffle Chart\n",
        "#### Line 1 fig = plt.figure(\n",
        "#### Line 2     FigureClass=,\n",
        "#### Line 3     rows=,\n",
        "#### Line 4     values=,\n",
        "#### Line 5     labels=,\n",
        "#### Line 6     legend={},\n",
        "#### Line 7     colors=\n",
        "#### Line 8     figsize=(),\n",
        "#### Line 9     title={},\n",
        "#### Line 10 )\n",
        "#### Line 11 plt.show()"
      ],
      "metadata": {
        "id": "jnjaJURkUDq9"
      },
      "execution_count": null,
      "outputs": []
    },
    {
      "cell_type": "markdown",
      "metadata": {
        "id": "Zf785imCI7O-"
      },
      "source": [
        "<details><summary>Click here for a sample python solution</summary>\n",
        "\n",
        "```python\n",
        "# my code\n",
        "\n",
        "# Convert colors to a list\n",
        "colors_list = list(plt.cm.get_cmap('tab20', len(data_percent)).colors)\n",
        "\n",
        "# Build Waffle Chart\n",
        "fig = plt.figure(\n",
        "    FigureClass=Waffle,\n",
        "    rows=5,  # 10x10 grid\n",
        "    values=data_percent,\n",
        "    labels=sorted_labels,\n",
        "    legend={\n",
        "        'loc': 'upper left',\n",
        "        'bbox_to_anchor': (1.05, 1.5),\n",
        "        'fontsize': 8,\n",
        "        'ncol': 1,\n",
        "        'frameon': False,\n",
        "        'title': 'Job Types',\n",
        "        'title_fontsize': 8,\n",
        "        },\n",
        "    colors=colors_list,  # Use the converted list of colors\n",
        "    figsize=(6,5),\n",
        "    title={'label': 'Distribution of Job Vacancies by Job Type \\nAll Provinces',\n",
        "           'loc': 'center',\n",
        "           'fontsize': 10},\n",
        ")\n",
        "\n",
        "plt.show()\n",
        "\n",
        "```\n",
        "</details>\n"
      ]
    },
    {
      "cell_type": "code",
      "source": [],
      "metadata": {
        "id": "hDywWUQrgXUv"
      },
      "execution_count": null,
      "outputs": []
    },
    {
      "cell_type": "markdown",
      "source": [
        "Question: How does job type distribution differ between provinces?"
      ],
      "metadata": {
        "id": "K1-Dw6xTfEmo"
      }
    },
    {
      "cell_type": "markdown",
      "source": [
        "# **Part 2 Bonus Activity**\n",
        "- Add an **interactive dropdown menu** for province selection.  \n",
        "- Generate a **dynamic Waffle Chart** that updates automatically based on the user’s chosen province.  "
      ],
      "metadata": {
        "id": "t9ktmTEYLepU"
      }
    },
    {
      "cell_type": "markdown",
      "metadata": {
        "id": "qS0l2T4t9evy"
      },
      "source": [
        "<details><summary>Click here for a sample python solution</summary>\n",
        "\n",
        "```python\n",
        "# my code\n",
        "\n",
        "# Convert colors to a list\n",
        "colors_list = list(plt.cm.get_cmap('tab20', len(data_percent)).colors)\n",
        "\n",
        "# Build Waffle Chart\n",
        "fig = plt.figure(\n",
        "    FigureClass=Waffle,\n",
        "    rows=5,  # 10x10 grid\n",
        "    values=data_percent,\n",
        "    labels=sorted_labels,\n",
        "    legend={\n",
        "        'loc': 'upper left',\n",
        "        'bbox_to_anchor': (1.05, 1.5),\n",
        "        'fontsize': 8,\n",
        "        'ncol': 1,\n",
        "        'frameon': False,\n",
        "        'title': 'Job Types',\n",
        "        'title_fontsize': 8,\n",
        "        },\n",
        "    colors=colors_list,  # Use the converted list of colors\n",
        "    figsize=(6,5),\n",
        "    title={'label': 'Distribution of Job Vacancies by Job Type \\nAll Provinces',\n",
        "           'loc': 'center',\n",
        "           'fontsize': 10},\n",
        ")\n",
        "\n",
        "plt.show()\n",
        "\n",
        "```\n",
        "</details>\n"
      ]
    },
    {
      "cell_type": "code",
      "source": [
        "df.columns"
      ],
      "metadata": {
        "id": "P6YZlzWs9-AQ"
      },
      "execution_count": null,
      "outputs": []
    },
    {
      "cell_type": "code",
      "source": [
        "# Create dropdown\n",
        "province_options = sorted(df['xxxxxxxxxxx'].unique().tolist()) # Replace 'xxxxxxxxxxx' by title '????'\n",
        "province_options.insert(0, 'All Provinces')\n",
        "\n",
        "province_dropdown = widgets.Dropdown(\n",
        "    options=province_options,\n",
        "    description='Select Province:',\n",
        "    style={'description_width': 'initial'},\n",
        "    layout=widgets.Layout(width='30%')\n",
        ")"
      ],
      "metadata": {
        "id": "RaQ2mBZyiNA5"
      },
      "execution_count": null,
      "outputs": []
    },
    {
      "cell_type": "markdown",
      "metadata": {
        "id": "CURWgED49iA3"
      },
      "source": [
        "<details><summary>Click here for a sample python solution</summary>\n",
        "\n",
        "```python\n",
        "# my code\n",
        "\n",
        "    # Create dropdown\n",
        "    province_options = sorted(df['Province'].unique().tolist())\n",
        "    province_options.insert(0, 'All Provinces')\n",
        "\n",
        "    province_dropdown = widgets.Dropdown(\n",
        "        options=province_options,\n",
        "        description='Select Province:',\n",
        "        style={'description_width': 'initial'},\n",
        "        layout=widgets.Layout(width='30%')\n",
        "    )\n",
        "\n",
        "```\n",
        "</details>\n"
      ]
    },
    {
      "cell_type": "code",
      "source": [
        "# Creat Waffle Chart based on Your Input\n",
        "\n",
        "# importing the colormap module from Matplotlib\n",
        "from matplotlib import cm\n",
        "\n",
        "# Evaluating the Dropdown Box\n",
        "def update_waffle(selected_province):\n",
        "    # Filter or aggregate data\n",
        "    if selected_province == 'All Provinces':\n",
        "        df_filtered = df.copy()\n",
        "    else:\n",
        "        df_filtered = df[df['Province'] == selected_province]\n",
        "\n",
        "    # Group by Job_Type\n",
        "    df_jobtype = (\n",
        "        df_filtered.groupby('Job_Type', as_index=False)['Vacancies']\n",
        "        .sum()\n",
        "        .sort_values(by='Vacancies', ascending=False)\n",
        "    )\n",
        "\n",
        "    # Prepare data\n",
        "    data_dict = df_jobtype.set_index('Job_Type')['Vacancies'].to_dict()\n",
        "    total = sum(data_dict.values())\n",
        "    data_percent = {k: v / total * 100 for k, v in data_dict.items()}\n",
        "\n",
        "    # Convert colormap to list of colors\n",
        "    cmap = cm.get_cmap('tab20', len(data_percent))\n",
        "    colors = [cmap(i) for i in range(len(data_percent))]\n",
        "\n",
        "    # Plot waffle\n",
        "    fig = plt.figure(\n",
        "        FigureClass=Waffle,\n",
        "        rows=5,\n",
        "        values=data_percent,\n",
        "        labels=[f\"{k} ({v:.1f}%)\" for k, v in data_percent.items()],\n",
        "        legend={\n",
        "            'loc': 'upper left',\n",
        "            'bbox_to_anchor': (1.05, 1.5),\n",
        "            'fontsize': 8,\n",
        "            'ncol': 1,\n",
        "            'frameon': False,\n",
        "            'title': 'Job Types',\n",
        "            'title_fontsize': 8,\n",
        "        },\n",
        "        colors=colors,\n",
        "        figsize=(6, 5),\n",
        "        block_arranging_style='column',\n",
        "        title={\n",
        "            'label': f\"Job Type Distribution — {selected_province}\",\n",
        "            'loc': 'center',\n",
        "            'fontsize': 10\n",
        "        }\n",
        "    )\n",
        "\n",
        "    plt.show()\n",
        "\n"
      ],
      "metadata": {
        "id": "ne0bqsk9iuUJ"
      },
      "execution_count": null,
      "outputs": []
    },
    {
      "cell_type": "code",
      "source": [
        "# Join dropdown box & create chart\n",
        "widgets.interact(update_waffle, selected_province=province_dropdown)\n"
      ],
      "metadata": {
        "id": "WChSDcOnivIZ"
      },
      "execution_count": null,
      "outputs": []
    },
    {
      "cell_type": "markdown",
      "source": [
        "\n",
        "\n",
        "\n",
        "---\n",
        "\n",
        "\n"
      ],
      "metadata": {
        "id": "ygkfU-bgj4R2"
      }
    },
    {
      "cell_type": "markdown",
      "source": [
        "# **Part 3 — Discovering Insights**\n",
        "\n",
        "In this section, you will:\n",
        "- Transform categorical features such as **Company Size** and **Remote Friendly** into numeric values for analysis.  \n",
        "- Use **grouping and aggregation** techniques to summarize key metrics by province and job type.  \n",
        "- Explore **relationships and correlations** between variables such as revenue, vacancies, and salary using various charts.  \n",
        "- Identify **hidden patterns** or **unexpected trends** within the job market data.  \n"
      ],
      "metadata": {
        "id": "FldNX2v_S5E-"
      }
    },
    {
      "cell_type": "code",
      "source": [
        "# Convert qualitative features to numeric codes\n",
        "df['Company_Size_Num'] = df['Company_Size'].map({\n",
        "    \"Low\": 1,     # < 50 employees\n",
        "    \"Medium\": 2,    # 50–249 employees\n",
        "    \"High\": 3      # ≥ 250 employees\n",
        "})\n",
        "\n",
        "df['Remote_Friendly_Num'] = df['Remote_Friendly'].map({\n",
        "    False: 0,\n",
        "    True: 1\n",
        "})\n",
        "\n",
        "# Verify conversion\n",
        "df[['Company_Size', 'Company_Size_Num', 'Remote_Friendly', 'Remote_Friendly_Num']].head()\n"
      ],
      "metadata": {
        "id": "gJba-1k3RZaO"
      },
      "execution_count": null,
      "outputs": []
    },
    {
      "cell_type": "code",
      "source": [
        "# Create Heatmap\n",
        "# To Check the correlation between variables\n",
        "\n",
        "plt.figure(figsize=(6,4))\n",
        "sns.heatmap(df[['Vacancies',\n",
        "                'Avg_Salary',\n",
        "                'Company_Size_Num',\n",
        "                'Company_Revenue_Million',\n",
        "                'Remote_Friendly_Num',\n",
        "                ]].corr(),\n",
        "            annot=True, cmap='YlGnBu', fmt='.2f')\n",
        "plt.title('Correlation Heatmap of Key Variables')\n",
        "plt.show()\n"
      ],
      "metadata": {
        "id": "35jQs8vqRokF"
      },
      "execution_count": null,
      "outputs": []
    },
    {
      "cell_type": "code",
      "source": [
        "# Create Boxplot\n",
        "# To Compare the distribution by Job Type\n",
        "\n",
        "plt.figure(figsize=(6,4))\n",
        "sns.boxplot(x='Job_Type', y='Avg_Salary', data=df)\n",
        "plt.xticks(rotation=90)\n",
        "plt.title('Salary Distribution by Job Type')\n",
        "plt.show()\n"
      ],
      "metadata": {
        "id": "Z8cBEgasRwQH"
      },
      "execution_count": null,
      "outputs": []
    },
    {
      "cell_type": "code",
      "source": [
        "# # Group by Province and Job_Title\n",
        "# summary = (\n",
        "#     df.groupby(['Province', 'Job_Title'], as_index=False)\n",
        "#       .agg({\n",
        "#           'Vacancies': ['median', 'sum'],\n",
        "#           'Company_Revenue_Million': ['median', 'sum'],\n",
        "#           'Avg_Salary': ['median', 'sum'],\n",
        "#           'Company_Size_Num': ['median', 'sum'],\n",
        "#           'Remote_Friendly_Num': ['median', 'sum']\n",
        "#       })\n",
        "# )\n",
        "\n",
        "# # Flatten multi-level column names\n",
        "# summary.columns = [\n",
        "#     '_'.join(col).rstrip('_') for col in summary.columns.to_flat_index()\n",
        "# ]\n",
        "\n",
        "# summary.head()\n"
      ],
      "metadata": {
        "id": "dRbaBQEr1C_M"
      },
      "execution_count": null,
      "outputs": []
    },
    {
      "cell_type": "code",
      "source": [
        "# Compare the correlation value by Bar chart\n",
        "\n",
        "corr_by_province = (\n",
        "    df.groupby('Province')[['Company_Revenue_Million','Vacancies']]\n",
        "    .corr()\n",
        "    .iloc[0::2, -1]\n",
        "    .reset_index()\n",
        "    .rename(columns={'Vacancies': 'Correlation'})\n",
        ")\n",
        "\n",
        "# Create Bar Chart\n",
        "plt.figure(figsize=(8,3))\n",
        "sns.barplot(x='Province', y='Correlation', data=corr_by_province, palette='viridis')\n",
        "plt.title('Correlation between Company Revenue and Vacancies by Province')\n",
        "plt.xticks(rotation=45)\n",
        "plt.show()\n"
      ],
      "metadata": {
        "id": "joFPFp7jYEDs"
      },
      "execution_count": null,
      "outputs": []
    },
    {
      "cell_type": "code",
      "source": [
        "# Compare the Work-From-Home by Job Type\n",
        "\n",
        "remote_share = df.groupby('Job_Type')['Remote_Friendly_Num'].mean().sort_values(ascending=False)\n",
        "remote_share.plot(kind='bar', color='skyblue', figsize=(6,4))\n",
        "plt.ylabel('Proportion Remote-Friendly')\n",
        "plt.title('Share of Remote-Friendly Jobs by Job Type')\n",
        "plt.show()\n"
      ],
      "metadata": {
        "id": "HIbKnyszSCQd"
      },
      "execution_count": null,
      "outputs": []
    },
    {
      "cell_type": "code",
      "source": [
        "# Create the scatter plot by Company Revenue vs Job Vacancies\n",
        "\n",
        "plt.figure(figsize=(6,4))\n",
        "sns.scatterplot(x='Vacancies', y='Company_Revenue_Million', hue='Province', data=df)\n",
        "plt.title('Company Revenue vs Job Vacancies')\n",
        "plt.show()\n"
      ],
      "metadata": {
        "id": "2XH7-YL0R0CE"
      },
      "execution_count": null,
      "outputs": []
    },
    {
      "cell_type": "code",
      "source": [
        "# Replace string categories with numeric codes (if not yet applied)\n",
        "#df['Company_Size_Num'] = df['Company_Size'].replace({'Low': 1, 'Medium': 2, 'High': 3})\n",
        "#df['Remote_Friendly_Num'] = df['Remote_Friendly'].replace({False: 0, True: 1})\n",
        "\n",
        "# Group and sum numeric columns\n",
        "df_sum = (\n",
        "    df.groupby(['Province', 'Job_Type'], as_index=False)\n",
        "      .agg({\n",
        "          'Vacancies': 'sum',\n",
        "          'Company_Revenue_Million': 'sum',\n",
        "          'Avg_Salary': 'sum',\n",
        "          'Company_Size_Num': 'sum',\n",
        "          'Remote_Friendly_Num': 'sum'\n",
        "      })\n",
        ")\n",
        "\n",
        "# Rename for clarity\n",
        "df_sum.rename(columns={\n",
        "    'Vacancies': 'Vacancies_Total',\n",
        "    'Company_Revenue_Million': 'Company_Revenue_Million_Total',\n",
        "    'Avg_Salary': 'Avg_Salary_Total',\n",
        "    'Company_Size_Num': 'Company_Size_Num_Total',\n",
        "    'Remote_Friendly_Num': 'Remote_Friendly_Num_Total'\n",
        "}, inplace=True)"
      ],
      "metadata": {
        "id": "4OH6SdrjKdn_"
      },
      "execution_count": null,
      "outputs": []
    },
    {
      "cell_type": "code",
      "source": [
        "# Create regression\n",
        "\n",
        "plt.figure(figsize=(5,3))\n",
        "\n",
        "# Scatter plot\n",
        "sns.scatterplot(\n",
        "    data=df_sum,\n",
        "    x='Company_Revenue_Million_Total',\n",
        "    y='Vacancies_Total',\n",
        "    color='skyblue',\n",
        "    s=70,\n",
        "    alpha=0.7\n",
        ")\n",
        "\n",
        "# Polynomial regression (order 2)\n",
        "sns.regplot(\n",
        "    data=df_sum,\n",
        "    x='Company_Revenue_Million_Total',\n",
        "    y='Vacancies_Total',\n",
        "    scatter=False,     # hide dots from regplot to avoid duplication\n",
        "    order=1,           # quadratic regression\n",
        "    color='red',\n",
        "    ci=None,           # remove confidence interval\n",
        "    line_kws={'lw':2, 'label':'2nd-Order Fit'}\n",
        ")\n",
        "\n",
        "plt.title('Vacancies vs Company Revenue', fontsize=8)\n",
        "plt.xlabel('Company Revenue (Million, Total)', fontsize=8)\n",
        "plt.ylabel('Vacancies (Total)', fontsize=8)\n",
        "plt.xlim(0, 80000)\n",
        "plt.ylim(0, 40000)\n",
        "plt.grid(True, alpha=0.3)\n",
        "plt.legend()\n",
        "plt.show()\n"
      ],
      "metadata": {
        "id": "d901Dhy2Hmsx"
      },
      "execution_count": null,
      "outputs": []
    },
    {
      "cell_type": "code",
      "source": [
        "\n",
        "plt.figure(figsize=(5,3))\n",
        "sns.scatterplot(\n",
        "    data=df_sum,\n",
        "    x='Company_Revenue_Million_Total',\n",
        "    y='Vacancies_Total',\n",
        "    hue='Province',\n",
        "    palette='tab10',\n",
        "    s=70,\n",
        "    alpha=0.7\n",
        ")\n",
        "\n",
        "plt.title('Vacancies vs Company Revenue by Province', fontsize=8)\n",
        "plt.xlabel('Company Revenue (Million, Total)')\n",
        "plt.ylabel('Vacancies (Total)')\n",
        "plt.xlim(0, 80000)\n",
        "plt.ylim(0, 40000)\n",
        "plt.grid(True, alpha=0.3)\n",
        "plt.legend(bbox_to_anchor=(1.05, 1), loc='upper left', title='Province')\n",
        "plt.show()\n"
      ],
      "metadata": {
        "id": "RzN3As-CI5wB"
      },
      "execution_count": null,
      "outputs": []
    },
    {
      "cell_type": "code",
      "source": [
        "# Export dataframe to csv file\n",
        "df.to_csv(\"Canada_Statistic_Demo_output.csv\", index=False)\n"
      ],
      "metadata": {
        "id": "aVTcfNpQc7GP"
      },
      "execution_count": null,
      "outputs": []
    },
    {
      "cell_type": "markdown",
      "source": [
        "# **Conclusion & Reflection**\n",
        "\n",
        "Congratulations! You’ve completed the “Canada Job Market Visualization Lab”, where you:\n",
        "*   Practiced data preprocessing and transformation (replacing, grouping, aggregating).\n",
        "*   Created Word Clouds to visualize job title frequency across provinces.\n",
        "*   Designed Waffle Charts to show job type proportions interactively.\n",
        "*   Explored correlation and distribution using scatter plots and regression trends.\n",
        "*   Learned how to identify hidden insights behind data patterns.\n",
        "\n"
      ],
      "metadata": {
        "id": "_8z3zOplBJuE"
      }
    },
    {
      "cell_type": "markdown",
      "source": [
        "# **Questions for Deeper Thinking**\n",
        "\n",
        "Encourage learners to reflect and discuss (either individually or in groups):\n",
        "\n",
        "*   Which provinces consistently show high IT job demand — and why might that be?\n",
        "*   How does company revenue influence hiring scale across different industries?\n",
        "*   What do you notice about remote-friendly jobs and average salary trends?\n",
        "*   In your waffle charts, are there provinces where certain job types dominate?\n",
        "*   How would you redesign this visualization for a public employment report?\n",
        "*   What other variables (education, gender, experience, etc.) could make this analysis more powerful?\n",
        "*   If this dataset represented real data, what policy or business decisions could be made based on these insights?\n"
      ],
      "metadata": {
        "id": "hgXWOHRbJv3h"
      }
    },
    {
      "cell_type": "markdown",
      "source": [
        "\n",
        "\n",
        "\n",
        "---\n",
        "\n",
        "1. Can you create the chart like this?\n",
        "2. What is the insights if those 'Outliers' that is explanable?"
      ],
      "metadata": {
        "id": "n4J8JbAik_Ad"
      }
    },
    {
      "cell_type": "markdown",
      "source": [
        "![image.png](data:image/png;base64,iVBORw0KGgoAAAANSUhEUgAAAecAAAEnCAYAAACT5YvgAAAAAXNSR0IArs4c6QAAAARnQU1BAACxjwv8YQUAAAAJcEhZcwAADsMAAA7DAcdvqGQAAIiUSURBVHhe7J15eBRV1off6r07KwmEJAQICHGBEFAEFJV9cd9BWVQQkBGVGZdRxBl1xAV0HHVQh2FHXGD4XBCVIAgOOyIiJDgsBoQAIQmkQ9J7ddX3R5Iy3UkgKKG7w32fpx/Ivaeqz6mlf3Xr3nuupKqqikAgEAgEgrBBF1wgEAgEAoEgtAhxFggEAoEgzBDiLBAIBAJBmCHEWSAQCASCMEOIs0AgEAgEYYYQZ4FAIBAIwgwhzoKI57rrrmP69OnBxWRlZfHxxx8HF59zjhw5wtVXXx1cHDJkWeb555/noosuomPHjnTu3Jlx48Zht9uDTSOSefPmER8fT+fOnenYsSN9+vRh9+7dwWYCQVgjxFkQ8dx///3MnTs3oGzr1q0cPXqUG2+8MaA8FKSmprJ27drg4pBx//33s3XrVjZu3EhOTg4//PADAwYM4MSJE8GmEUvv3r354YcfyMnJoWvXrvzpT39CpHQQRBJCnAURz0033cShQ4fYsWOHVjZnzhzuuecejh8/Tp8+fbjsssvo0KEDDz30EIqiaHZTp04lMzOTrKwsevTogdPppKCgoM5t5s2bR//+/bn77rvJzMyka9eu5OXlafubO3cunTt3Jisri65du3LgwAEOHDhAfHy8ZvPdd9/Rt29funbtSpcuXfjPf/4DQFFREQMHDiQzM5NOnToxatQobZsq3n//fW644Qbtb1VVueCCC/jxxx/Zu3cvPXv2JCsri8zMTJ555pmAbQH27dvHkiVLmDNnDk2aNAFAkiTuvPNO2rZtC8Crr75Khw4dyMzMZPjw4ZSWlgLw3HPPMWTIEG688UYyMjK44YYbyMnJYdCgQWRkZHD33Xfj9/sBGDVqFKNHj+bKK68kIyODe++9F6fTCcAHH3xA9+7d6dKlC1lZWSxdulTzr0+fPjz++ONcffXVXHDBBYwfPx5VVTly5AjJyck4HA7Ndvjw4bz77rva33XRt29fDh48qP393nvv0aNHDy699FKuueYatm/fDsCFF17Id999p9nNmzePW2+9FVVVKSgoYOjQoXTr1k07tlVi36ZNG/7yl79wxRVX0KZNG1544QWtrk+fPnzyySfaPu+8807mzZuHqqqUlZUxbtw4unXrRqdOnRg3bhwej0ezFZznqAJBI+DRRx9VJ06cqKqqqrpcLjU+Pl7dtWuX6nK51LKyMlVVVVWWZfX6669XP/zwQ1VVVXXevHnq5ZdfrtrtdlVVVfXEiROqLMun3Gbu3LlqbGysmpeXp6qqqj755JPquHHjVFVV1dWrV6vp6enqkSNHVFVVVYfDoTocDnX//v1qXFycqqqqWlJSonbu3FmzKSoqUlu1aqXm5+err7/+urYvVVXV48ePa/+vwul0qk2bNtW2/+abb9RLL71UVRRFfeSRR9SXXnpJs61t+0WLFqmdOnVSFUUJrlJVVVW//PJL9aKLLlJPnDihqqqqjh07Vh0/fryqqqr67LPPqm3atFGPHz+uKoqi9urVS+3evbtaWlqq+nw+tXPnzuqyZctUVVXV++67T73kkkvU0tJSVZZl9cYbb1RffPFFVVVVtbi4WPv+/fv3q8nJyarL5VJVVVV79+6t3nLLLarX61WdTqfapk0bdf369aqqqurw4cPVGTNmqKqqqgUFBWpSUpJ68uRJNZi5c+eqN998s6ooiur3+9Vx48apf/vb31RFUdR169ap1113nfZ9//3vf9UOHTqoiqKoL730kjphwgTNt169eqmfffaZqqqqOmjQIHX16tWqqqqqz+dTBw8erC5atEhVVVVNT09XH374YVVRFLWoqEiNi4tTDx06pKqV8Xz88ceVnqnqHXfcoc6dO1dVFEUdN26cOn/+fFVRFFVRFHXMmDHqtGnT6jw3gvML0XIWNAruv/9+3n//fbxeLx9//DEXX3wxF198MYqi8OSTT5KVlUWXLl3YunWr1lJatmwZ48ePJy4uDoAmTZqg1+tPuQ2gtZCq/v/zzz8D8MUXXzBy5EhSUlIAsNls2Gw2bTuADRs2kJeXx7XXXkvnzp3p378/qqqye/duevTowVdffcVjjz3GZ599RlRUVMC2AFarldtuu42FCxdCZetu1KhRSJLENddcw8yZM5k8eTIrVqwIaK3Xl5UrVzJ06FCtVf2HP/yBlStXai3BgQMHkpCQgCRJdOnShd69exMbG4vBYKBLly7s3btX29eQIUOIjY1Fr9czevRobT/79+/nuuuuo2PHjtxyyy0cP36c/fv3a9sNHToUo9GI1Wqlc+fO2puJRx55hHfeeQdVVZk1axZ33XUX0dHR2nbVWbNmDV26dKFp06asWrWKP/zhD0iSxNKlS9m+fTs9evSgc+fOPPzwwxw/fhyXy8XIkSNZvHgxHo+HvLw89uzZw7XXXovD4WDVqlX88Y9/pHPnznTt2pW9e/eye/du7bjcfffdSJJE06ZNadu2bUA8dfHpp5/y6quv0qVLF7p06cJ///tf9u3bF2wmOE8R4ixoFFxyySW0a9eOzz//nDlz5nD//fcD8Prrr1NYWMjmzZvZsWMHw4YNw+12B28ewOm2sVgs2v/1ej2yLGt/nw5VVenQoQPbt2/XPgcPHqRv375cccUVbN++ne7du/Pxxx9z+eWX17rv0aNHM3fuXMrLy/niiy+4++67Abj99ttZv349F154IdOnTw94/V3FpZdeyr59+zh+/HhwVa1IkhTwd3DswX/X5m8VVfu6++67GT16NDk5OWzfvp2YmJh6Hd9u3bphs9lYvXo1//73v3nwwQdr+FdFVZ9zfn4+F154IRMmTEBVVVRV5d577+WHH37Qjv/Ro0ex2WykpaXRtWtXli5dyvz58xk+fDgGg0ET4I0bN2rb7Nu3j7/85S/a99fls8Fg0F71AwFxqqrKkiVLtH3u3r2bGTNm1BmT4PxCiLOg0XD//ffz0ksvsWXLFoYOHQpASUkJycnJWCwWCgoKtP5dKvuq//Wvf2l9qna7Hb/ff8ptTsWNN97IwoULOXr0KABOp1PrZ63iyiuvZP/+/axcuVIr2759O16vl/379xMdHc2QIUP45z//yd69eykvLw/YHqB79+5IksTjjz9Ov379SExMBGDv3r00b96ce+65h2nTprFp0yZNWKpo164dt912G2PGjNFGZ6uqyv/93/+Rl5dH//79Wbx4sXZMZsyYwYABA36TYCxZsoSysjL8fr/WVy9JEiUlJdqbh4ULF1JSUhK8aZ088sgj3HfffVx00UVkZGQEV9fAZrMxc+ZMvvrqK3744QduvPFG3n//fa0PWlEUtm7dqtnfd999zJkzhwULFmhvJKKjo+nTpw9Tp07VjueRI0fIz8/XtquLdu3asWXLFu2Nwbp167R93HLLLUybNg2fzweV16poOQuqEOIsaDQMHTqU3bt3c+edd2qvOydOnMjmzZvp0KEDI0eOpH///pr9yJEjuf3227nyyivJysriuuuuw+PxnHKbU3HNNdfw7LPPMmjQILKysujVqxdFRUUBNk2aNOGLL77gpZdeIisri0suuYSnnnoKRVFYs2YNl112GZ07d+bKK69k2rRpdb6avu+++5gxY0bAoLElS5aQmZlJly5dGDp0KP/6179qFdU5c+aQlZVF9+7d6dChA5dccgkrVqwgISGBa6+9llGjRnHllVeSmZnJyZMnefnll4N3US8uv/xyBg8ezMUXX0xcXBwTJ04E4I033mDIkCF06dKFH374gZYtWwZvWid33HEH5eXlTJgwodbYaiM1NZXHH3+cZ599lquuuoqpU6dy++23k5WVRYcOHfjoo480wbz55pvZunUrzZs35+KLL9b2sXDhQn7++WcyMzPJzMzktttuo7i4uNq31M4TTzzBmjVr6NSpE5MmTaJbt26a36+//jo2m40uXbrQqVMn+vXrV6/X4YLzA0kNfrQWCASC38moUaPIysrij3/8Y3DV72Lr1q0MHz6cXbt2odfrg6sFgkaDaDkLBIKIYOzYsdx222289dZbQpgFjR7RchYIBAKBIMwQLWeBQCAQCMKMBm85f/rpp3zwwQdcd9113HfffQB4vV4WLFjAhg0b8Pl8ZGVlMWbMmIDBL8XFxcycOZPc3FwsFgu9evVi2LBhAa+zcnNzWbBgAYcOHSIxMZHbb7+d3r17a/UAy5cv5/PPP8dut9O6dWtGjx5Nu3btAmwEAoFAIAgnGrTlvG/fPr7++mtat24dUD5//ny+//57Hn30UZ5//nlKSkr4+9//rtUrisLLL7+MLMtMmTKFCRMmsGbNGhYtWqTZFBYW8sorr9ChQwemTZvG9ddfz7/+9a+AZBEbNmxgwYIF3HHHHUydOpXWrVvz4osvatNEBAKBQCAIRxpMnN1uN//85z954IEHAjIdOZ1OvvnmG+699146duxI27ZtefDBB9m9ezd79uwB4McffyQ/P5+HH36Y9PR0bWpIdna2Nrl/xYoVJCUlcc8995CWlsbgwYPp0aMHX3zxhfZdy5Yto1+/fvTp04e0tDTGjh2LyWRi9erVmo1AIBAIBOFGg4nzrFmztPl71cnLy8Pv95OZmamVtWjRgqZNm2rivGfPHlq1ahXwmrtz5864XC4OHToElQkXqu+DyiUCq/YhyzJ5eXkBNjqdjszMTM2mNnw+n5Y8oupTlSRAIBAIBIJzQYOI8/r169m/fz/Dhg0LrsJut2MwGGrkDY6Li9MyFtnt9hrJF6ryH1e3qSqrbuNyufB6vZw8eRJFUWrsJz4+/pTr1n7yySfcd9992mfmzJkYjcZgM4FAIBAIGoyzPiCsuLiYSZMm8cwzz2h9zc899xzp6encd999rFu3jnfeeYcPPvggYLtJkybRoUMHRowYwYwZMyguLmby5MlavcfjYeTIkUyaNIkuXbowceJEevfuza233qrZbNu2jVdeeYWFCxdSXl7O+PHjmTJlSkCav4ULF7Jr1y5eeuklraw6Pp8voKUsSRJWq5WSkpJT5g0Od4xGY0S/ARD+h55IjyHS/SeEMRgMRgr9Rn4uPf2SlhfEmUnS+5Dlmn6Gyv+zhcFg0BaFaWjOujhv2bKF1157DZ3u10a5oihIkoQkSUyePJkXXniBuXPnBrSeH3zwQa677jpuuOEGFi1axNatW3n11Ve1+sLCQh566CGmTp1KmzZtePbZZ2nTpo02Ahxg9erVzJs3j/nz5yPLMiNGjODRRx+lW7dums306dNxOp38+c9/1srqQ1FRUURfVGazOaLXihX+h55IjyHS/SeEMRht0WwulrF7Tt9AiTcb6N7UgM9ZMy98qPw/WxiNRpo1axZc3CCc9dfamZmZvPbaa0ybNk37XHDBBVx11VXa//V6PTt37tS2OXLkCMXFxVoLNyMjg4MHDwaMqt6xYwdWq5W0tDQA2rdvH7CPKpuqfRgMBtq2bUtOTo5WrygKOTk59UqYLxAIBIIKVEmHT1GCi2vFpyio0lmXlvOOs34ErVYrrVq1CviYzWZiYmJo1aoVNpuNvn37smDBAnJycsjLy+Odd94hIyNDE82srCzS0tKYPn06Bw4cYPv27Xz00UcMGjRI6/8dOHAghYWFLFy4kMOHD5Odnc3GjRu5/vrrNV9uuOEGVq1axZo1a8jPz2fWrFl4PJ4ac6EFAoFAUDeSqmCs9jb0VBh1OiS1fkIuqJuz/lq7Nqr3OVMtCcn69euRZbnWJCRFRUXMmjWL3NxczGYzvXr1Yvjw4TWSkMyfP5/8/PxTJiFZunQpdrud9PR0Ro0aRfv27QNs6oN4rR1ahP+hJ9JjiHT/CWEMJpOZfNlEznFXcFUNOiZaSTN48Xpr+hkq/88W5/K19jkR58aAEOfQIvwPPZEeQ6T7T4hjMMbE8+0RJ2657laxxaCjV6oNX1ntM2JC6f/Z4FyKc/3eUwgEAoHg/MbtpHuyDYuhdtmwGHR0T7aB2xlcFRaoqkpZWRknT5485SdcHh5Ey7meiJZzaBH+h55IjyHS/ScMYjAaTWCxcdjhJ7/ch0+p6ItOizbSIkoPbic+nzd4M41Q+l9WVobZbMZkMgVXaaiqisvlQlXVGrk4EC1ngUAgEIQjPp8XX5mdNIOX7k0N9GxuoXtTA2mGivJTCXOoUVX1lMJMZV4Lm80WFjkthDgLBAKB4Izwej34nOXIjpP4nOW1Dv6KZCRJCi465whxFggEAoEgzBDiLBAIBAJBmCHEWSAQCASCMEOIs0AgEAgEYYYQZ4FAIBAIwgwhzgKBQCA4L6hPWg+lngt8NDRCnAUCgUDQ6DGbzbhcp84NrigKZWVl2Gy24KpzjhBngUAgEDR6zGYzqqpSWlpaI2Vn1ae8vJyoqCgMBkPw5uccIc4CgUAgOC+IiooiLi6O2NjYOj/hIMwIcRYIBAKBIPwQ4iwQCAQCQZghxFkgEAgEgjBDiLNAIBAIBGGGEGeBQCAQCMIMSa3PrOwzZMWKFaxYsYKioiIA0tLSuOOOO+jSpQsAzz33HLt27QrYpn///owbN077u7i4mJkzZ5Kbm4vFYqFXr14MGzYMvV6v2eTm5rJgwQIOHTpEYmIit99+O71799bqAZYvX87nn3+O3W6ndevWjB49mnbt2gXY1IeioiJ8Pl9wccQQykXOzwbC/9AT6TFEuv80ghgi3X+j0UizZs2CixuEBhHnrVu3otPpSElJQVVVvv32W5YuXcq0adNo2bIlzz33HCkpKQwdOlTbxmQyaRO/FUXhiSeeID4+npEjR1JSUsL06dPp168fw4YNA6CwsJDHHnuMAQMG0LdvX3Jycpg3bx5PPfUUnTt3BmDDhg1Mnz6dsWPH0r59e7744gs2bdrEG2+8QVxcnPbd9UGIc2gR/oeeSI8h0v2nEcQQ6f6fS3FukNfaXbt25dJLLyUlJYXU1FTuvvtuLBYLe/fu1WzMZjPx8fHap3pGlh9//JH8/Hwefvhh0tPT6dKlC0OHDiU7OxtZlqGydZ6UlMQ999xDWloagwcPpkePHnzxxRfafpYtW0a/fv3o06cPaWlpjB07FpPJxOrVqzUbgUAgEAjCjQYR5+ooisL69evxeDxkZGRo5WvXruX+++/nscce44MPPgh4mtqzZw+tWrUiPj5eK+vcuTMul4tDhw4BsHfvXjIzM7V6gKysLPbs2QOALMvk5eUF2Oh0OjIzMzWb2vD5fDidTu1zunRvAoFAIBCcbRrktTbAwYMHmTx5Mj6fD4vFwiOPPMKll14KwMqVK2natCkJCQn88ssvvP/++7Rr147HH38cgBkzZlBcXMzkyZO1/Xk8HkaOHMmkSZPo0qULEydOpHfv3tx6662azbZt23jllVdYuHAh5eXljB8/nilTpgQ8FCxcuJBdu3bx0ksvaWXVWbx4MUuWLNH+btOmDVOnTsVut+P3+wNsIwmj0RjRr+WF/6En0mOIdP9pBDFEuv96vT6g0diQNJg4y7JMcXExTqeTTZs2sWrVKp5//nnS0tKCTcnJyeFvf/sbb731FsnJySEVZ5/PF3DxSJKE1WoVfc4hRvgfeiI9hkj3n0YQQ6T7H/F9zgAGg4Hk5GTatm3LsGHDSE9P58svvww2A9BGTxcUFAAQHx+P3W4PsCktLdXqqv6tKqtuY7VaMZlMxMbGotPpauzHbref8snHaDRis9m0j9VqDTYRCAQCgaBBaTBxDkZRlDpbngcOHACgSZMmAGRkZHDw4MEA8d2xYwdWq1Vrebdv356dO3dq9VU2Va1kg8FA27ZtycnJ0eoVRSEnJyegJS0QCAQCQbjRIOL8wQcfsGvXLgoLCzl48KD299VXX01BQQFLliwhLy+PwsJCtm7dyttvv83FF19M69atoXJgV1paGtOnT+fAgQNs376djz76iEGDBmE0GgEYOHAghYWFLFy4kMOHD5Odnc3GjRu5/vrrNT9uuOEGVq1axZo1a8jPz2fWrFl4PJ4ac6EFAoFAIAgnGqTP+d133yUnJ4eSkhJsNhutW7fm5ptvplOnThQXF/PPf/6TQ4cO4fF4SExMpFu3btx2220B06mKioqYNWsWubm5mM1mevXqxfDhw2skIZk/fz75+fmnTEKydOlS7HY76enpjBo1ivbt2wfY1AfR5xxahP+hJ9JjiHT/aQQxRLr/57LPuUHEuTEixDm0CP9DT6THEOn+0whiiHT/z6U4N8hrbYFAIBAIBL8dIc4CgUBwDjGZzBht0RiiYjHaojGZzMEmAoEQZ4FAIDgXGI0mjDHx5MsmNhfLrD/mZnOxTL5cUW40moI3EZzHCHEWCASCBsZoNOE22fj2iJOc4y7sHhmHT8Hukck57uLbI07cJpsQaIGGEGeBQCBoaCw2Nhc4cctKcA0Abllhc4ETLL/OWBGc3whxFggEggbEZDJz2OGvU5ircMsKhx1+0QctACHOAoFA0LCoBiP55fWbhplf7kM1VCRaEpzfCHEWCASCBkSVdPiUU7eaq/ApCqokfpYFQpwFAoGgQZFUBaOufj+1Rp0OSa2fkAsaN/W7YgQCgUDwm5BkH2nR9XtVnRZtRJLr9wpc0LgR4iwQCAQNiNfroUWUHovh1D+3FoOOFlF6vN7ITW8pOHuc+moRCAQCwe/H7aR7sq1OgbYYdHRPtoHbGVwlOE+p/UoRCAQCwVnD5/Ni8TrplWqjY6KVeLOBKKOOeLOBjolWeqXasHid+Hze4E0F5ylCnAUCgeAc4PN58ZXZSTN46d7UQM/mFro3NZBmqCgXwiyojhBngUAgOId4vR58znJkx0l8znLRxyyoFSHOAoFAIBCEGUKcBQKBQCAIM4Q4CwQCgUAQZkiqqqrBhb+XFStWsGLFCoqKigBIS0vjjjvuoEuXLgB4vV4WLFjAhg0b8Pl8ZGVlMWbMGOLj47V9FBcXM3PmTHJzc7FYLPTq1Ythw4ah1+s1m9zcXBYsWMChQ4dITEzk9ttvp3fv3lo9wPLly/n888+x2+20bt2a0aNH065duwCb+lBUVITPF7nJAcxmMx5P5PZtCf9DT6THEOn+0whiiHT/jUYjzZo1Cy5uEPTPPffcc8GFv5eSkhI6derErbfeSr9+/XC5XMyZM4fu3bsTFxfHnDlz2LZtGxMnTmTgwIFs2LCBTZs20bdvXwAUReGvf/0rJpOJP/3pT2RmZrJ48WKcTieZmZkAFBYW8te//pUePXowbtw44uPjmTVrFu3atSM5ORmADRs2MHPmTEaOHMnQoUMpLCzkww8/pE+fPlgslgCfT4fT6USpZ37ccMRgMOD3+4OLIwbhf+iJ9Bgi3X8aQQyR7r9erycqKiq4uEFokNfaXbt25dJLLyUlJYXU1FTuvvtuLBYLe/fuxel08s0333DvvffSsWNH2rZty4MPPsju3bvZs2cPAD/++CP5+fk8/PDDpKen06VLF4YOHUp2djayLENl6zwpKYl77rmHtLQ0Bg8eTI8ePfjiiy80P5YtW0a/fv3o06cPaWlpjB07FpPJxOrVqzWbYHw+H06nU/u4XK5gE4FAIBAIGpQGea1dHUVR2LhxI2+//TbTpk3Dbrfzt7/9jblz5wY8gTz44INcd9113HDDDSxatIitW7fy6quvavWFhYU89NBDTJ06lTZt2vDss8/Spk0b7rvvPs1m9erVzJs3j/nz5yPLMiNGjODRRx+lW7dums306dNxOp38+c9/1sqqs3jxYpYsWaL93aZNG6ZOnYrdbo/oJz6j0RjRr+WF/6En0mOIdP9pBDFEuv96vT6g+7UhaTBxPnjwIJMnT8bn82GxWHjkkUe49NJLWbduHe+88w4ffPBBgP2kSZPo0KEDI0aMYMaMGRQXFzN58mSt3uPxMHLkSCZNmkSXLl2YOHEivXv35tZbb9Vstm3bxiuvvMLChQspLy9n/PjxTJkyhYyMDM1m4cKF7Nq1i5deekkrq47P5wu4eCRJwmq1ij7nECP8Dz2RHkOk+08jiCHS/T+Xfc4N8lobIDU1lVdffZWXXnqJgQMH8vbbb5Ofnx9sFnYYjUZsNpv2sVqtwSYCgUAgEDQoDSbOBoOB5ORk2rZty7Bhw0hPT+fLL78kPj4eWZZxOBwB9qWlpdrrgvj4eOx2e436qrqqf6vKqttYrVZMJhOxsbHodLoa+7Hb7efstYRAIBAIBL+FBhPnYBRFwefz0bZtW/R6PTt37tTqjhw5QnFxsfb6OSMjg4MHDwaI744dO7BaraSlpQHQvn37gH1U2VTtw2Aw0LZtW3JycrR6RVHIyckJeM0tEAgEAkG40SDi/MEHH7Br1y4KCws5ePCg9vfVV1+NzWajb9++LFiwgJycHPLy8njnnXfIyMjQRDMrK4u0tDSmT5/OgQMH2L59Ox999BGDBg3CaKxYtHzgwIEUFhaycOFCDh8+THZ2Nhs3buT666/X/LjhhhtYtWoVa9asIT8/n1mzZuHxeGrMhRYIBAKBIJxokAFh7777Ljk5OZSUlGCz2WjdujU333wznTp1gmpJSNavX48sy7UmISkqKmLWrFnk5uZiNpvp1asXw4cPr5GEZP78+eTn558yCcnSpUux2+2kp6czatQo2rdvH2BTH8SAsNAi/A89kR5DpPtPI4gh0v0/lwPCGkScGyNCnEOL8D/0RHoM4ei/yWRGNRhRJR2SqiDJvlOuUhWOMZwJke7/uRTnBnmtLRAIBIK6MRpNGGPiyZdNbC6WWX/MzeZimXy5otxoNAVvIjjPEOIsEAgE5xCj0YTbZOPbI05yjruwe2QcPgW7RybnuItvjzhxm2xCoM9zhDgLBALBucRiY3OBE7dce65+t6ywucAJFltwleA8QoizQCAQnCNMJjOHHf46hbkKt6xw2OHHZDIHVwnOE4Q4CwQCwTlCNRjJL6/fwNL8ch+qoWLqqOD8Q4izQCAQnCNUSYevnkvP+hQFVRI/0ecr4swLBALBOUJSFYy6+v3sGnUV06sE5yf1u0oEAoFA8LuRZB9p0fV7VZ0WbUSS6/cKXND4EOIsEAgE5wiv10OLKD0Ww6l/ei0GHS2i9KdMSCJo3Jz6ChEIBALB2cXtpHuyrU6Bthh0dE+2gdsZXCU4j6j96hAIBAJBg+DzebF4nfRKtdEx0Uq82UCUUUe82UDHRCu9Um1YvE58Pm/wpoLzCCHOAoFAcI7x+bz4yuykGbx0b2qgZ3ML3ZsaSDNUlAthFghxFggEghDh9XrwOcuRHSfxOctFH7NAQ4izQCAQCARhhhBngUAgEAjCDCHOAoFAIBCEGUKcBQKBQCAIMyRVVdXgwt/LJ598wpYtWzh8+DAmk4mMjAxGjBhBamqqZvPcc8+xa9eugO369+/PuHHjtL+Li4uZOXMmubm5WCwWevXqxbBhw9Dr9ZpNbm4uCxYs4NChQyQmJnL77bfTu3dvrR5g+fLlfP7559jtdlq3bs3o0aNp165dgM3pKCoqwueL3Gw9ZrMZjydyB5sI/0NPpMcQ6f7TCGKIdP+NRiPNmjULLm4QGkScX3zxRXr27MkFF1yA3+/nww8/5NChQ7z++utYLBaoFOeUlBSGDh2qbWcymbDZKtYwVRSFJ554gvj4eEaOHElJSQnTp0+nX79+DBs2DIDCwkIee+wxBgwYQN++fcnJyWHevHk89dRTdO7cGYANGzYwffp0xo4dS/v27fniiy/YtGkTb7zxBnFxcdp3nw4hzqFF+B96Ij2GSPefRhBDpPt/LsW5QV5rT548md69e9OyZUvS09OZMGECxcXF5OXlBdiZzWbi4+O1T5UwA/z444/k5+fz8MMPk56eTpcuXRg6dCjZ2dnIsgzAihUrSEpK4p577iEtLY3BgwfTo0cPvvjiC20/y5Yto1+/fvTp04e0tDTGjh2LyWRi9erVmo1AIBAIBOFEg4hzME5nRRq66OjogPK1a9dy//3389hjj/HBBx8EPFHt2bOHVq1aER8fr5V17twZl8vFoUOHANi7dy+ZmZlaPUBWVhZ79uwBQJZl8vLyAmx0Oh2ZmZmaTTA+nw+n06l9XC5XsIlAIBAIBA1Kg7zWro6iKEybNg2Hw8ELL7ygla9cuZKmTZuSkJDAL7/8wvvvv0+7du14/PHHAZgxYwbFxcVMnjxZ28bj8TBy5EgmTZpEly5dmDhxIr179+bWW2/VbLZt28Yrr7zCwoULKS8vZ/z48UyZMoWMjAzNZuHChezatYuXXnpJK6ti8eLFLFmyRPu7TZs2TJ06Fbvdjt/vD7CNJIxGY0S/lhf+h55IjyHS/acRxBDp/uv1+oAGY0PS4OI8c+ZMtm/fzt/+9jcSExODqzVycnL429/+xltvvUVycnLIxNnn8wVcPJIkYbVaRZ9ziBH+h55IjyHS/acRxBDp/kd8n3MVs2fPZtu2bTz77LOnFGZAGz1dUFAAQHx8PHa7PcCmtLRUq6v6t6qsuo3VasVkMhEbG4tOp6uxH7vdXufTj9FoxGazaR+r1RpsIhAIBAJBg9Ig4qyqKrNnz2bLli389a9/JSkpKdikBgcOHACgSZMmAGRkZHDw4MEA8d2xYwdWq5W0tDQA2rdvz86dO7X6KpuqVrLBYKBt27bk5ORo9YqikJOTE9CSFggEAoEgnGgQcZ49ezZr165l4sSJWK1W7HY7drsdr7dipZWCggKWLFlCXl4ehYWFbN26lbfffpuLL76Y1q1bQ+XArrS0NKZPn86BAwfYvn07H330EYMGDcJoNAIwcOBACgsLWbhwIYcPHyY7O5uNGzdy/fXXa77ccMMNrFq1ijVr1pCfn8+sWbPweDw15kILBAKBQBAuNEif85AhQ4KLAHjwwQfp3bs3xcXF/POf/+TQoUN4PB4SExPp1q0bt912W8B0qqKiImbNmkVubi5ms5levXoxfPjwGklI5s+fT35+/imTkCxduhS73U56ejqjRo2iffv2ATanQ/Q5hxbhf+iJ9Bgi3X8aQQyR7v+57HNuEHFujAhxDi3C/9AT6TFEuv80ghgi3f9zKc4N8lpbIBAIBALBb0eIs0AgEAgEYYYQZ4FAIBAIwgwhzgKBQCAQhBlCnAUCgUAgCDOEOAsEAoFAEGYIcRYIBAKBIMwQ4iwQCAQCQZghxFkgEAgEgjBDiLNAIBAIBGGGEGeBQCAQCMIMIc4CgUAgEIQZQpwFAoFAIAgzhDgLBAKBQBBmCHEWCAQCgSDMOK04q6qKy+UKLhYIBAKBQNBA1CrO7777Lg6HA1mW+fOf/8zYsWPJzs4ONhMIBAKBQNAA1CrOeXl5REVFsX37dtLT0/n3v//N119/HWwmEAgEAoGgAahVnKv46aefuOyyy7DZbOh0pzQN4JNPPmHSpEncc889jBkzhmnTpnHkyJEAG6/Xy6xZsxg9ejQjR47ktddew263B9gUFxfz8ssvM2LECMaMGcN7772H3+8PsMnNzeXJJ59k2LBhPPzww6xZsyagHmD58uVMmDCB4cOH8/TTT7Nv375gE4FAIBAIwoZaFTc+Pp6ZM2eyadMmMjMzkWUZRVGCzepk165dDBo0iBdffJFnnnkGv9/PlClTcLvdms38+fP5/vvvefTRR3n++ecpKSnh73//u1avKAovv/wysiwzZcoUJkyYwJo1a1i0aJFmU1hYyCuvvEKHDh2YNm0a119/Pf/617/Yvn27ZrNhwwYWLFjAHXfcwdSpU2ndujUvvvgipaWlmo1AIBAIBOFEreL88MMPk5qaysSJE4mKiuLEiRPccMMNwWZ1MnnyZHr37k3Lli1JT09nwoQJFBcXk5eXB4DT6eSbb77h3nvvpWPHjrRt25YHH3yQ3bt3s2fPHgB+/PFH8vPzefjhh0lPT6dLly4MHTqU7OxsZFkGYMWKFSQlJXHPPfeQlpbG4MGD6dGjB1988YXmy7Jly+jXrx99+vQhLS2NsWPHYjKZWL16tWYjEAgEAkE4Uas4x8bGcuWVV+Lz+QBISEjgqquuCjarN06nE4Do6Gio7NP2+/1kZmZqNi1atKBp06aaOO/Zs4dWrVoRHx+v2XTu3BmXy8WhQ4cA2Lt3b8A+ALKysrR9yLJMXl5egI1OpyMzM1OzCcbn8+F0OrWPGKkuEAgEgnONpKqqGly4adMmFixYgCRJvP322xw4cIAPP/yQSZMmBZueFkVRmDZtGg6HgxdeeAGAdevW8c477/DBBx8E2E6aNIkOHTowYsQIZsyYQXFxMZMnT9bqPR4PI0eOZNKkSXTp0oWJEyfSu3dvbr31Vs1m27ZtvPLKKyxcuJDy8nLGjx/PlClTyMjI0GwWLlzIrl27eOmll7SyKhYvXsySJUu0v9u0acPUqVOx2+01+rsjCaPRqD1sRSLC/9AT6TFEuv80ghgi3X+9Xh/QYGxIahXnJ598kmeeeYYXXniBadOmAfDoo4/y+uuvB5uelpkzZ7J9+3b+9re/kZiYCGEuzj6fL+DikSQJq9VKUVFRRF9UZrMZj8cTXBwxCP9DT6THEOn+0whiiHT/jUYjzZo1Cy5uEGp9ra3T6YiJiQkoMxgMAX/Xh9mzZ7Nt2zaeffZZTZipHHAmyzIOhyPAvrS0VHsqiY+PrzF6u2oQV3Wb4IFdpaWlWK1WTCYTsbGx6HS6Gvux2+11Pv0YjUZsNpv2sVqtwSYCgUAgEDQotYqz1WrFbrcjSRIAO3fu1PqL64OqqsyePZstW7bw17/+laSkpID6tm3botfr2blzp1Z25MgRiouLtRZuRkYGBw8eDBDfHTt2YLVaSUtLA6B9+/YB+6iyqdqHwWCgbdu25OTkaPWKopCTkxPQkhYIBAKBIJzQP/fcc88FF6alpfHmm29y7Ngxvv/+e1avXs1DDz1UZ2szmNmzZ7Nu3Toee+wxEhIScLvduN1udDoder0eo9FISUkJ2dnZtG7dmvLycv7973+TmJjInXfeCUDz5s3ZvHkzO3fupFWrVhw4cIA5c+YwYMAAOnfuDEBycjKffPIJTqeTxMRENm7cyOeff87o0aNJTk6GygeNRYsWkZiYiMFgYNGiRRw4cIDx48djsVgC/D4VTqfzjKaThRsGgyGi+8yF/6En0mOIdP9pBDFEuv96vZ6oqKjg4gah1j5nKsVo9+7dqKrKhRdeeEYODRkyJLgIgAcffJDevXtDZRKSBQsWsH79emRZJisrizFjxgQ8ABQVFTFr1ixyc3Mxm8306tWL4cOHo9frNZvc3Fzmz59Pfn4+iYmJ3H777dp3VLF8+XKWLl2K3W4nPT2dUaNG0b59+wCb0yH6nEOL8D/0RHoMke4/jSCGSPf/XPY51ynOgkCEOIcW4X/oifQYIt1/GkEMke5/yMT52Wef5fnnn2fUqFGBVpXMnTs3uOi8QYhzaBH+h55IjyHS/acRxBDp/odMnEtKSmjSpAlFRUWBVpWcK6fCESHOoUX4H3oiPYZI959GEEOk+38uxTlgtHaTJk2gcm5vXFwczZo1o1mzZsTFxWkjtwUCgUAgEDQstU6lqr4ARRW/JQGJQCAQCASCM6dWcZZlGZPJpP1tMpki+pWuQCAQCASRRK3iLElSQPKP4AxbAoFAIBAIGo5ap1KtXr2ajz/+mKuvvhqAtWvXcuedd3LNNdcEm543iAFhoUX4H3oiPYZI959GEEOd/qsqhj17sGRnoxqNOMaPhzAc53QuB4TVKs5UJvf44YcfALjsssu4+OKLg03OK4Q4hxbhf+iJ9BjC3X+TyYxqMKJKOiRVQZJ9eL2B/oZ7DKcjwH+/H9PWrVhWrMCSnY1h//6K4ubNObZlC/yG9RwamrAQZ0EgQpxDi/A/9ER6DOHqv9FoAouNww4/+eU+fIqCUacjLdpIiyg9uJ34fF4I4xjqi9nvR1q5EsuKFZhXrkRfXBxsAkBhdjZyx47BxSEn5OJcWFjIZ599xrFjxwLyoD777LMBducTQpxDi/A/9ER6DOHov9Fowm2ysbnAiVuumbvfYtDRPdmGxVsh0OEYw+nQnTiBuVKQLWvWILlcwSaoej3e7t1xDxqEe+BA/K1aBZuEBSEX50mTJpGZmUlGRgY63a9jxi699NIAu/MJIc6hRfgfeiI9hnD03xgTz7dHahfmKiwGHb1SbfjK7GEZQ23oDxyoEOMVKzBt3oxUy6JBis2Gp3dv3AMH4u7XDzUhIdgk7Ai5OD/++OO89tprwcXnNUKcQ4vwP/REegzh5r/JZCZfNpFzvGZLMpiOiVbSDF4kibCKQUNVMe7YofUfG3/6KdgCAKVZM1z9++MeNAjP1VfDGawMGA6cS3GudSpVy5YtKa6jL0AgEAgEvx/VYCS/vH4P/PnlPlSDMbg4tHi9mP/7X+KeeYbm3brR7LrriHnjjRrCLLdtS9kf/kDRJ59QkpND6Wuv4RkwIOKE+VxTa8v5hRdeIC8vj4yMDIzGXy+Ixx9/PMDufEK0nEOL8D/0RHoM4ea/ISqW9cfcOHw1X/kGE2XU0bO5Bb3sCWkMUlkZ5m++wfL111hWrUJ38mSwCQDeSy+t6D8eNAi52vK84XYOzpRz2XKuVZzXrFkTXARQY53k8wkhzqFF+B96Ij2GcPPfaItmc7GM3SMHV9Ug3myge1MDOr/vnMegKyjQ+o/N69Yh1fI7qJpMeK66qqL/eMAAlOTkYBMIw3NwpoRcnAU1EeIcWoT/oSfSYwg3/8O2z1lVMezdi2X58ooBXZX5LoJR4uJw9+uHe+BAPH36oEZHB5vUINzOwZkSFuK8YcMGDhw4ECBI9957b4DN+YQQ59Ai/A89kR5DOPofNqO1/X5M33+PJTsby/LlGA4cCLYAQE5N1aY7ea+4Aqp1e9aHBvP/HBFycZ4zZw6FhYXs37+fnj17snHjRjp16sQf/vCHYNPzBiHOoUX4H3oiPYZw9D+k85xdLsxr11YI8tdfoz9+PNgCAN/FF+MePBj3oEH4Onb8XWk1z6r/ISDk4vzYY4/x6quv8uSTT/Lqq69it9t5++23mTx5crBprezatYulS5eyf/9+SkpKePzxx+nWrZtW//bbb/Ptt98GbJOVlRWw//LycubMmcP333+PJEl0796dUaNGYak2wu+XX35h9uzZ/Pzzz8TGxjJ48GBuvvlmrR5g48aNLFq0iKKiIpKTkxk+fPhvmq8txDm0CP9DT6THEK7+n8sMYdKJE1hWrsSSnY3522/R1ZUQpFs3bUDX2UwI8nv9DzXnUpxrnUplMpm05COyLBMfH8+JEyeCzerE4/GQnp7O/fffH1yl0blzZ/79739rn4kTJwbUv/XWWxw6dIhnnnmGp556ip9++okZM2Zo9U6nkylTptC0aVNeeeUVRowYwX/+8x9Wrlyp2ezevZs333yTvn37MnXqVC6//HJeffVVDh48qNkIBAJBKPH5vPjK7KQZvHRvaqBncwvdmxpIM1SUVwnzb0V/8CBRM2eSeMcdJGdl0eRPf8K6fHmAMCtWK65rr6XkjTco2L6d40uW4Bg79qwKs+DMqFWcLRYLHo+Hiy66iH/+85/MnTsXs9kcbFYnXbp04a677gpoLQdjMBiIj4/XPtHVBhPk5+ezfft2xo8fT/v27bnooosYPXo0GzZs0B4S1q1bhyzLPPjgg7Rs2ZKePXty7bXXsmzZMm0/X375JZ07d+amm24iLS2Nu+66i7Zt27J8+XLNRiAQCMIBr9eDz1mO7DiJz1leY9GLelOZECTm1Vdp1r8/za+4grjnnsO8cWNApi5/06Y47r6b4/PmUbBzJyWzZuG6886IyNR1PlCrOE+cOBG9Xs/IkSNp3bo1er2eRx99NNjsd7Fr1y7GjBnDxIkTmTlzJmVlZVrdnj17iIqK4oILLtDKMjMzkSSJffv2aTYXX3wxhmorl2RlZXHkyBHKy8s1m8zMTK2+ymbv3r0BZdXx+Xw4nU7t46rltY9AIBCEFT4fpv/+l7jJk2l++eU0u/ba2hOCtGlD+fjxFH36Kce2bfs1IYjVGmAnCD219jl7vV6MRiNSZce/oijIsozJZAo2PS1Dhgyp0ee8fv16zGYzSUlJFBQU8OGHH2KxWHjxxRfR6XR8/PHHfPvtt7z55psB+xozZgxDhgxh4MCBTJkyhaSkJMaNG6fV5+fn8+ijj/L666+TlpbG3XffzYQJE7jqqqs0m+zsbJYsWcLMmTO1suosXryYJUuWaH+3adOGqVOnYrfbAxYBiTSMRmNE95kL/0NPpMcQ6f4TFINUVoZx1SpMX32F8euv60wI4rvsMrzXXYfv2mvxt2//uwZ0/V4i/Rzo9Xri4+ODixuEWsX5mWee4emnn8Zms0Fl/+7LL7/MCy+8EGx6WmoT52COHTvGww8/zF/+8hcyMzNDKs4+ny/g4pEkCavVKgaEhRjhf+iJ9Bgi3X8AS0kJumXLfk0I4q3ZH13fhCChINLPQcgHhHk8Hk2YAWw2G263O8DmbNK8eXNiYmIoKCgAID4+npNBT4F+v5/y8nLtqSU+Ph673R5gU/V3dZvS0tIAm9LS0lM++RiNRmw2m/axitc9AoEgVFQmBImePp2mN9xAQseOxD/1FJZvvgkQZiU2Fuctt3Di3Xcp2LGDE++9h3PkyLASZsGZUas4q6oaIMZOpxOlliW/zhbHjx+nvLycJk2aAJCRkYHD4SAvL0+zycnJQVVV2rVrp9n89NNPyPKvqe927NhBamqqNrgsIyODnTt3avVVNu2r5XoVCASCsMLvx/Tdd8ROmULS1VeT1Ls3sS+/XCNTlz8lBcd993H8ww8p+PFH7G+/jfumm1BjYgLsIgWTyYzRFo0hKhajLRqTqf6DkBsj+ueee+654EKn08mHH36IXq/nwIEDzJs3j549e3LhhRcGm9aK2+0mPz8fu93O119/Tbt27TCZTMiyjE6n48MPP8RqteL3+8nLy+Pdd9/FYrFwzz33oNfriY2NZe/evaxfv542bdpQWFjIzJkz6dSpE3369AEgJSWFFStWkJ+fT0pKCrm5uXz44YcMGTKEtm3bApCQkMCiRYswm81ER0ezfPlyNmzYwB/+8Afi4uKCvD41Df2A0tAYDIaI7jMX/oeeSI8hrP13uTCvWUP0u+8S/+STRM+Zg2nrVnRBbwflSy7BMXw4J599lpPPPIOnXz/8rVuDXh9gF67Udg6MRhP6qBgOe3T8ZJc5UO7jqEsFg4n4aBt6VUFRwuO86fV6oqKigosbhFr7nKlc/GLbtm0AdO3alWuuuSbYpE5yc3N5/vnng4vp1asXY8eO5dVXX2X//v04HA4SEhLo1KkTQ4cODXjdXF5ezuzZswOSkIwePbrOJCQxMTEMHjyYW265RaunMgnJRx99RFFRESkpKSIJSYQi/A89kR5DuPkvnTiBZdWqiv7j1atrTwii0+Ht3r2i/3jQIAwZGWEVw5kSfA7ONENaqDmXfc51irMgECHOoUX4H3oiPYZw8F9/6JCWv9q0ZQtSLS15xWLB06dPxYIS/fujVJt3HA4x/B6C/T/T3OKhJizEWSx8EYgQ59Ai/A89kR5DSPxXVQy5uViXL8eSnY1x165gCwD8iYm4BwzAPWgQnquvrnPecUhiOItU9/+3rMr1mxOznCVCLs5i4YuaCHEOLcL/0BPpMZwz/30+TJs2VayBnJ2N4fDhYAsA5PT0igUlBg/Ge+ml9eo3PmcxNBDV/f8t61n7nBUJpkLFuRTnWkdr5+bm8uc//5nY2FjuueceXn755TPKrS0QCATnE1J5OZZly4h/+GGSs7JoetddRM+ZU0OYvV26cPKppyhcvZrCdes4+Ze/4L388noJc2NDlXT46jnI1qcoqFKtctVoqTXa37vwhUAgEDR2dIWF2BYuJGHkSJIzM0l44AFsH3+MrlpuBdVoxN27N/aXX6bg++8pXraM8ocfRs7ICGmmrnBAUitW36oPRp0OSa2fkDcWaj0yv3fhC4FAIGiMGPbtq0gIcuONNL/0UuKffLJmQpCYGJw338yJd96hYOdOTrz/Ps577hEJQYKQZB9p0cbg4lpJizYiyZHbrfhbCOhz3rJlC127duXkyZNER0ejKArLli2jvLyc6667jqZNmwZufR4h+pxDi/A/9ER6DL/Jf0XBuG0bluxsrMuXY6iWGKk6/uTkivWPBw/G06MH/IZ1COrDb4ohjAj2X4zWrpsAcX7iiSew2+306tWLvn37kpqaGmh9HiPEObQI/0NPpMdQb//dbszr1lVMefr6a/RFRcEWAPguuqhi/vHgwfg6dTonr6nrHUOYEuy/mOdcNzVGa//888+sXr2a9evXk5aWRr9+/bjiiivO+9faQpxDi/A/9ER6DKfyXyopqUgIkp2Nec0adE5nsElFQpBu3TRB9rduHWzS4JwqhkigNv+NRhNYbBx2+Mkv9+FTKvqi06KNtIjSgzs8hJlQi3MVPp+PzZs3s3r1an7++WeuuOIKHnjggWCz8wYhzqFF+B96Ij2GYP+1hCDZ2Zg2b647IUivXhXzjwcMCEgIEgqCY6gNk8mMajCiShWDqCTZF/L5wVWcyv9w9ruKsBBnKleC2rp1K5988glHjx5l/vz5wSbnDUKcQ4vwP/REegxmkwn/tm1YKzN01ZkQJCEBz4ABuAYPxnv11ah1JAQJBac6B5HQAj2V/5FAyMX54MGDfPPNN6xfv57k5GT69OnDlVdeGZDX+nxDiHNoEf6HnoiMwefDtHkzlhUrsGZno8/PD7aAqoQglQO6vJddFrbzjus6B0ajCdUaRYGrot9WVlROOH0Uunwoavj03dblf6QQMnHOzs5m9erVHD9+nGuuuYY+ffqQlpYWuMV5ihDn0CL8Dz2REoPkcGBeswbL8uVYvvmmxspOVXg7d9b6jyNl3nFt58BoNCFFxfKT3csvJ714/CpmvUSrGBPJNj15JW6KXb6wGPVcm/+RRMjE+eWXX6Zv37507doVfZg+OYYKIc6hRfgfesI5Bl1hIZavv8ayfDnm9euRavFTNRrxXHllhSAPHIgSgbNRgs+B0WjCY47iv0fdFLpqpsG0GSR6pkRxqLRCoEOdozrY/0gjZOIsqBshzqFF+B96znUMpxsgpN+3r6L/ODsb47ZtSLX8lCkxMRUrPA0ahHrttbgjfNZJ8DkwxsTz3wI3BS4Fn1IzfioFuneLKLYeLSPWFNoc1cH+RxpCnMMQIc6hRfgfes5VDHUObLLpab1rG+aln2D88kuMP/8cvClUJQSpXP/Yc+WVWkKQc+V/Q1I9hqpVnXJLfZzwKPjrEGeAS5tZ8Xp9lPn89GxuQXacDDY5J0T6ORDiHIYIcQ4twv/Qcy5iCE5KofO4Sd68jpbffEXamhVYiwuDNwHAd+GFFQO6Bg2qSAhSS87mM/X/dC33UFA9hqpVnUplFbtXrbPlDNDUoueSJiaOlHlFy/l3IMQ5DBHiHFqE/6HnXMRgjIlnw09HaPrNCtJWLyd17SqMrjoSglx+uSbI/vT0YJMa1Nf/2lruJoOetBgTLaKM6GUvfq/nrAn1mTwEVI/BEBXL+mNunH5wqzrKvDXnaVcRa9LRtZkFxa+IPuffgRDnMESIc2gR/oeehoxBn59P1MpVqF9lE7VxHbpaEoLIZgtHe/bmUJ/BxNxyEynJsWckMvXxP7jlLul0oNPh9oNbVrAYJHomR6FT/DQxS79r7nBtDwGnm5dcW8vZ7pGRDAaOuxWUOn7Om1r0dEo0k2KRxGjt30HEi/OuXbtYunQp+/fvp6SkhMcff5xu3bpp9aqqsnjxYlatWoXD4eCiiy5izJgxpKSkaDbl5eXMmTOH77//HkmS6N69O6NGjQqYa/3LL78we/Zsfv75Z2JjYxk8eDA333yzVg+wceNGFi1aRFFREcnJyQwfPpxLL700wKY+CHEOLcL/0HNWY1BVDLt2YVmxAsvy5ZhycoItAHDHJ3C490AO9R3M0St64bfaAIg3n/nApvr4X30hBkmnQ9HpKAkSvaoBVjlFDi5v/tvmDgc/BART17zk6jFU9TnnHHfV6WsVXZOsZMTqkVyOM/b1bFKfcxDOnEtxrtkxcxbweDykp6dz//33B1cB8Nlnn/HVV18xduxYXnrpJcxmMy+++CLeasuuvfXWWxw6dIhnnnmGp556ip9++okZM2Zo9U6nkylTptC0aVNeeeUVRowYwX/+8x9Wrlyp2ezevZs333yTvn37MnXqVC6//HJeffVVDh48qNkIBIJzhCxjWr+e2L/+laQrriBp4EBiX3uthjCXpbVm173jyZ7/GZ/8N4f9r79D7JDb6dC6GZc0tZFsM+JXFVTp7P58mUxmDjv8FX3dEjSPMtEu1swVyTa6NbfRMtqIXgKnrFLg9BNr1LO5wAmWigeGM8JStzBDRSv9dPv2ej20iNJjMehQFQWdopBo0RFj0mPUSeh1EkadRJLVwEXxppALs+DMOLtXdyVdunThrrvuCmgtV6GqKl9++SW33XYbl19+Oa1bt+ahhx6ipKSE7777DoD8/Hy2b9/O+PHjad++PRdddBGjR49mw4YNnDhxAoB169YhyzIPPvggLVu2pGfPnlx77bUsW7ZM+64vv/ySzp07c9NNN5GWlsZdd91F27ZtWb58uWYjEAgaDsnpxPLll8Q/8gjJWVk0HTKE6NmzMRw6FGDnzcrCMfkZvl22ls++2sy2J55HvepqLkuLx2Qyssvu47siD7vsPkxmI5lJMRjrkTPEZDJjtEVjiIpFMlkwmeqeSqUajOSX+2hqNdI1JRajXsf/Sj18X+Rid6mHJhYDfdNiSLEZOFjmJcFmxC0rHHb4T7nfYKo/BJyKeu3b7axoYVcKtCrLWCSFeJNEgllHslXHNSkWVMdJIcwRRoOI86koLCzEbrfTqVMnrcxms9GuXTv27NkDwJ49e4iKiuKCCy7QbDIzM5EkiX379mk2F198MQaDQbPJysriyJEjlJdXvOras2cPmZmZWn2Vzd69ewPKquPz+XA6ndrH5XIFmwgEglOgKyrC9sEHJNx7L8kdO5Iwdiy2//u/gExdqsGA5+qrsb/4IgXffUfxl1/i+uMfibssCySJplYjLeMsrDniZFuxm0K3nxMehaNOP5uPudlY4MSpM2KtfM0djNFowhgTT75sYnOxzIZCL5uOyxxWrZjim9a6nSrpiDbpKr/XwZZCN0UuPyd9CkUuP1uLXKw5Us6FCRbiTDoMuoqng/xyH6rBGLy7Oql6CKgPp9u3z+fF4nXSK9VGx0Qr8WYDNj3EGSQ6xBm5JtmC2SNazJFIg/Q5V2fIkCEBfc67d+/mL3/5CzNmzKBJkyaa3euvv44kSfzpT3/i448/5ttvv+XNN9+sticYM2YMQ4YMYeDAgUyZMoWkpCTGjRun1efn5/Poo4/y+uuvk5aWxt13382ECRO46qqrNJvs7GyWLFnCzJkztbLqLF68mCVLlmh/t2nThqlTp2K32/HXMkglUjAajRHdZy78Dz2nikG3bx+mr77C9NVXGL77rvaEINHR+Pr1w3vddfj690eNiws2QbVEse6Ig0uaRvHtEQcOWcWnQPW96SVItOjxKwo3psdi8joC7k29Xk+5zsyWAiceBRSdDrdfxeNX8Ssq0UaJXqnRNDGC5HVp20omC6WKga/zy3HW8r1VRBkkBrSMxumV2XXcRZRRx1XNLeCt54O8ycraAjfO07ScgRr7PtU5MBgM+HUGVCQkVPSKjCzXzBoWSk7lfySg1+uJj48PLm4QhDgH4fP5Ai4eSZKwWq1iQFiIEf6HnoAYFAXjDz9oA7qMlW+0gvEnJ+MeMAD34MF4rrgCTpOhq2oBh90n/Xxf5MarQHWJ1EsSCWY9LtmP16/SNclKhzg9rtKSX/dROairSpi1QVKSBJU/dzaDRN+0aMySog26stmi2OsxsP6oEySpUpxr/3m8JiUKoyrz0wn3GQ9Oqz7K+nQE7zvSr6NI9z/iB4SdiqqnjtLS0oDy0tJSrS4+Pp6TJwMz2Pj9fsrLywNs7EEJ7av+rm5zqu+pDaPRiM1m0z7WMFouLpyo3pdntEWful/sDGio/QrOAm435lWriPvzn2l+2WU0u+kmYqZPryHMvowMyh56iKIvvuDYd99R+soreHr3PqUw22xRmGMTkGwxGPR6HF6FaKOOGGOFGDe1GEiyGkiy/irMAAdOeimTJWy2qIrrJSYel6KjTayJDk1tXBRvoWuSVRvMVYVTVjnikMkr9WmDrnxIFLpkdJULYOjr+HXUSxLHXDK6ykQnadFGJLn+D+6S7CMtuu5X1dU5030LGg91XH4NR1JSEvHx8ezcuVMrczqd7Nu3j4yMDAAyMjJwOBzk5eVpNjk5OaiqSrt27TSbn376KeC1zY4dO0hNTSU6Olqzqf49VTbt27cPKBPUn+C+vPXH3GwulsmXK8qNxopUiWfK6fYrFmIJDZLdjvXjj2nywAMkXHghiffcQ9T776Mv/DVTlypJeLp1o/Qvf+HY2rUUrV6N59nn4MqrMMTEn/Ihy2q1YYpvyl6Pga+PuFh20MFhhx+7T8Fq0GEz6nD5Vcp8Cie9fpyyis2ox1SptCpgNOj4xWdgc7HMukIv20948UkGrEY9+eXeaoO5okmx/TpG5WCZlxizXht0pUo6fD4/TSw6dNqPY+Cos6qW+0mPjF4nYTHoaBGlP6P51tVHWZ+K37JvQeNB/9xzzz0XXPh7cbvd5OfnY7fb+frrr2nXrh0mkwlZlomKisLv9/Ppp5+SlpaGLMvMmTMHr9fL6NGj0ev1xMbGsnfvXtavX0+bNm0oLCxk5syZdOrUiT59+gCQkpLCihUryM/PJyUlhdzcXD788EOGDBlC27ZtAUhISGDRokWYzWaio6NZvnw5GzZs4A9/+ANxtfR3nQqn04minL6PKFwxGAy/u8+8am7m+qNOjjh8uP0VyfbdfoVCl8xhh0xynA0zCopS/++qz36TYq2Y1DPbbzhxNo7/uUJ/+DC2JUuIfeUV4p55BusXX2DcswepWreOarHg7tuX8gcfpHTaNJyjR+Pr2hVDUnP0UTEc9uj4yS5zoNzHUZcKBhPx0Tb01c6h1WqjzGDli1/K+bnUS7lPwe1XaWY1UODyU+jyE2XU4VdUnLKCrILHr+L2q8Sa9Oh1kGAxAio/lXjw+BU8qkS+Q2Z/mY+D5T46NbVy3O1nt93LEYdMlyQrHlmh3Kdg0EmkRRs5VOalRbQRCZWjLgWvX8Fm1KHXSeikigcAgyQRbdQTY9Lhkv1Y9BLNbQbaxZkweJxnfF3qVYXkOBvHnDJyLWk3q+Y5B+87kq6j2oh0//V6PVFRUcHFDUKD9Dnn5uby/PPPBxfTq1cvJkyYoCUhWblyJU6nk4suuoj777+f1GpLuJWXlzN79uyAJCSjR4+uMwlJTEwMgwcP5pZbbtHqqUxC8tFHH1FUVERKSopIQvI7qJ6goS5+y5qx9dmvzajn6hTrGe03nDgbx7/BUFUMP/2EJTv7lAlBlIQEvAMG4rnhBjx9+yPZrAGpJs80sYYpvimf7i+j3Bdo2zLaRLxFz3dFbgwSJNsMHHX4ggaFVYhjWpSBUrefcp8MksQJj4LbXyGoChBlgN6p0aw4VIZflbS/v8kvo4m5It/0L6Vueja3oPN5tKQeAJJOh6TToUoSfrViapPXryIB3ZtbuSBah+z87SOhf2+GsEgk0v0/l33ODSLOjZHzXZyrZyM6HWeyZmx996vT6bikibne+w03fu/xP+vIMqYtWyoEOTu7xrzjKuRWrXAPGoR8/fXIvfuR71LrFBIstoCHLEmnqxiEVTUQS1Ux66B3i2hMksoeh8q6o5V5s6t+hiQJSYK+LaJZc8SBQ1ZINOtRVCitljvaqtfRxKzjsmZWNh1zYpFUnIpEmU9BAWSlQpxBpWszK8fdMr+UydrfJW6ZZlYDXq8Pt1/VBl3V9aBYPRaLDnql2PCerMi58Hsx/cbc2pFIpPsvxDkMOd/F+feMMD0V9d2vTqcj1qir937Djd97/M8GktOJ+dtvsSxfjmXlyoB5x9XxduqkLbkoX3wxRpMZt8nGd8dcOH2/CqROgiSrkebRJlpGG/Eo4PYrgIReAp8CXkWhxKNwzCFzwufHpNNxSbyJVtEGDjpkvArIikqBQ+aI04dfrdguJUpPhwQL6446kRWVBIueY85fr5EUm4FLm1nJK/Vw0usHtdrKTJUjrRUqRlsnWfW0jzOzscAFqDSz6unQxEy8ScfWo2VckvDrw+SZtv7PNeFwHf0eIt1/Ic5hyPkgzqd6gq9aAccR9AqyNqKMunqvGVvf/ep0Oqx66r3fcKM+x78h0BUXY/n6ayzZ2ZjXrkVyu4NNUA0GvFdcgWvwYNwDBqC0aBFQX9Wa9Cpo4y6aWo20bWLB4VOJMuk47q7oI3bJCkiQajPS3Gag3Osn2qSjzKNgNeo4XO7lgjgL5T4/Pxa7Ka9cTKJVtIkUm4Gc424OlsuoqKRGGclKtFDslin3KRx2+DDrJVpHm8iIN/F9oYtyWQG/H3S6X9c0rhxt7VPAD8SZJLo0tfLfI05ApYlZz7Uto8kpclDu89fohvktr5vPFaG6js4Wke6/EOcwpDGLc31+jDBWjKI+XQsX0XKulVMd/7ONPi/v1wUltm6tPSFIVBSevn0rllzs27fWhCBU63bYdcJF8ygzTSwVg6J0Oj3/O+GiRYyZ7wqd6CUdJV4/UqUoUjmX+KoUG/vsHtrFmznh8tEmzsyaww4seh2FLhl3tcFQUQYdV6fYyD3h4bCj4l7TSxJZCSY6JlrJd/jwKSqFDpkW0Ub2lXlR/AqKLCPp9YFrGksSSKCo0MSsJyPOxHeFLqwGHck2AxmxBnKLK1Nf1tEKPtXDaqg4l9dRQxDp/gtxDkMaqzjX9zVetOLlF4/+tH3DiD7nWqnr+J8VFAXj9u1a/7GxjvS0/ubNKxKCDBqEp2dP6pp3XF2U9HoDR5wyFqOeoy4/+WVeLk2yse6og54pUfz3iAOTvqLlrJOoljREQgJslQOw1hU4uDk9lk/3n8Rm0GHUSThlheOewJG7MQYdvVtEsfxgGZVTmSsSfqDwP7tH679ubjUQZzGw54QLValYQarWNY0liUubWXHLfg47ZLx+lcxEM0kmiTjT71vyMRQ06HV0Doh0/8+lOJ96op2g8VPP1XFkg6lB5mZ66zvnUy+d0X4bPR4P5tWriXvySZp37UqzG2+sSAgSJMxlF2Rw7OHHKFm1hpO5u3D+8238N96CsUlijbnHVXOOD6tWvrOrbCiW2Vzsxa/To9fpOOaQMet1HHHIxJj0HHbIePzg9Vfk0QqcEVTxh0OGYy6Zi+LN/FLmw6dQMU1OVrAZdBgqX0FXUSarHHPJpEVXzJePMepoHWNkb4kT1e9HlWVUv5+THh9tYoyYKy8bVVGw6NESiFRh00OyVcdxpxezDppadGTEmYhX3fjK7BElzILzC9FyrieNseVc31Yrla3h1maFcp2xTjH/rYNl6tN675ESFdEJ/Gs7/meKVFqK5ZtvKvqPV69GV7nAS3VUSaKo8+Uc6nst+X0HU9a6LZJOh8Wop0szG0dOuily+TDrdGQ0MdPEagBFRa+XKPXBf484UJDwKBW5qAH8ikoTi55rUqKQ/X7WHXPRLs7M3lIPPgUcPgUV8FcbIV1BReu5mVXPNSk2NhQ4cflVvH4Vq0HCVLlwRKHLj6z9DEk0t+q5MM7Ej8fdDG4VTUGZh5/tv/aVV3+bU64zaddN8JrGNoNEz5QoDpW6KXb5sBn1XN7cesbXZzhxNq6jUBLp/p/LlrMQ53rSGMW5vv29VOtHxuc9bf/0b/nhO12/t9HvxemsnHYTgdR2/OuD7vBhLCtWYM3OxrRxI1ItCxmoFgve3n3YedVADlzVH3fTJK2uumBZ9NC7RRQHStykN7FQ4PRzzCVjkCQ6JlrYdMyJJEmUeCoGdumkCnH1qxVyG2OUuL1tLJuOOmgebWJbkQujTqLUqyBJFdOXfv0x+fXVdqxJx+CWUXx9yIFeJ1Hq9RNv0qOoaoWIGvW4ZAVH5TSoeJOefmk2ogw6nG4fO467a1wPVddZ8HUjA0aDnuZWAwlmPQdPuin3KqRFG0mLMaI6y3/T9Rku/NbrKFyIdP+FOIchjVGc6ztSmlpGYDfUYJm69lub/5FEvf1XVQz/+1/FdKfsbExB6WerUJok4B00CO/gwXh79ybf3KTWNyCSwcDxqoUfgF6pUUQZdaw5XI7TrxJvNhBl0JFo1fNjsRt/5QCqcp8fWf21NayrTOpxZXMr6TEGDpbL7Kmz5Vzt+ytbzr2qtZzLfRVzl50+Px6/iiRVXF8mvQ69JNHEpOOKpkZcJ0vqvB6CCbYzouJDCthOkqjfOQhj6n0dhSmR7r8Q5zCkMYrzb2k5h2qkdG3+RxKn9F+WMX333a8JQQ4eDLYAwNeyFUUDb+B/vQdTfNkVRFlNtIwykBplYHeJmwNlPm3AVFVSj+qDpPQSDGodw3fHXBS5ZMx6qWKgXYKZvFIvxW4/PlVFL0k0Neuxe/14K1vDVT25zStfUf9S7sWvSuSe8GDSS5T7FHSAr9qviVT5uayZBb0EZr2OLYUuzHqJKIPEcbdcvamNTpJItOjoEGdskIF/pzwHEUKkxxDp/p9LcT71KBxBo0asjhM6JJcLy/LlxP/pTzTv3Jmmd9xB9MyZNYTZ3SmL3X+cxN41m5n71fcsfuR5tmdewS9u2F3qZdtxD98eddHEasJs0HPCo2D3qrhVHZJeX5kUpILUKCNHHTKeypFbRr0Ol6xg1FX0MVeNjvarKh5FxaSveC1dkcqjQmhdlbmtbQYdyVYDBqlisJ5UmZSk+nAsCbAaIMlqYLfdQ+sYIyYdRBsrHxiChLmJRYdFUsXAP4FAiPP5Tb1HSp/hCGxB7eiKi7F+9BFNRo2ieceOJNx/P7bFi9GX/LoWsWowcOyKa9j69Evk7djNwg9WIj/zV1YkXIDdWzEiWlEr5LIipaWC06+y9qiDixMq8s77FJUyb8UrY4XK9JlASpSRQ+U+bVS1rnIesE9RseilgNzVTlnBpKvI9FUdi17C7VdoEWVkX6mbnik2ZEUhwaxHBYy6ClHWAVEGiatSothT4qZHcxuHyjxc3zoGk6SiqqDXSRh1EjEmPYkWHTZJpVtza8W8eoHgPEe81q4njfG1NvUcKf1bRmCfberyP9zR79+PJTsb29dfY9i8ufaEINHRePsPwHfjTey4vA+/6K0kWY2YTEaKXDJNLAa2FrlRKlujJl2FoBp1El6lYnqQrMIFsSZK3X4OlVecp2iT/tdFJVSVnilR7Cn1ctIj4/GrWn1KlIHmVgNbCt1U9B5XrMIUb9JR5lO0V9s6oGszC4qi0CLKgF4nVWYI03PCLVPo8uOsbKm3iDKSbDXglP3EGPX4FT9NjDr0Pjd+o4XDLj/5DhmfX8EoQQub4XcNKKwPkXoNVSfSY4h0/8/la20hzvWksYoz9Rgp3ZA/mPXlVP6HmoDBSH4Z4/ffof/884qEIHv2BJsDoDRrhueGGykZeD32q/uAxVIxKlqtmGbkV1S2FrlpG2dmd6mXQpe/8uUyGCuzX6GCT1Ux6ySaWgz4VZX2lZmwUFWtT9khV/QHX5ls5ajTz/6THlDR6st9fq5tFcO3RxyUVoq5SScRbdRx0qugqxyJHWWQ6J0axQm3jMfro9Dlo0W0mYsTLZhQ8KsVi1aoKuglFb8qoUNBluUaA7mCB3AF1zcE4XwN1ZdIjyHS/RfiHIY0ZnGuIhQ/mPWlPv6fa6oeao6UuHCvWk2zr78k9ZuvsBwrCDYFwNeuHe7Bg5Gvux7PlVdTruo54pA5WObFo1S85m0VbSTVZiDGKLGtyEVylInvi9zYfYo2f1iHhFFXkSZTQcUgSSSa9diMOtrFGll71FmhkFLFQL4THj/RBokBaVEcdfrZcqzytXFl/XG3n7QoAx0SLKw54qBcVog36fH5VVz+iilVsSYdVzS38Uupm4sTLOwudpIaRg9v9SEcr6EzJdJjiHT/hTiHIeeDOIcz4ea/yelC+nYtzo8/o/l/V2EqLws2QZUk5K5dcQ0ciP+GG3C1agWANa4JRz2w7ogDp1x5+1WupKSiVrRQW0QTY5A47JD5X6mXYy6/Js4SEmYdeCrtq1q5UQaJXqlR5J30cvCkF6+iEmXU0S7eQpxRx88nnLRpYmHN4V+/12LQYTPqKPX4SbUZ6Jho5YjTR6lH4ZjLh0mv44LYilfUR8o9tIu3YMOP31+zNRzuhNs19FuI9Bgi3X8hzmGIEOfQEg7+644cqVhQIjsb84YNtSYE8ZvMHO1xNfl9r6Wo/2B6dErHV2bX/DeZzHgsMXxx4OSvwkygOEPFiOYb02P4pdSDV5XYUuSus+Vc1crtkGCm3OvHZoAEsx6DTkJWVIwSpESbyD/pqZhjHGViU4ETBQmLHiRVRZUk3H4w66F/WjReRaXcp+JXVBxeH1adRIsIT+IRDtfQ7yXSY4h0/4U4hyFCnENLSPxXVQy7d2vzj00//hhsAYAc34TS/oM53GcQ/7v8Gry2KK2uahGQqgQY1pg4dpWrfHcsKGGIJKFQsbZxFT2TbSSadfiRWH244nUzQX3OCtDUrMcl++mVGs2WQicmFNTKpR2p5gOAajCi1xtQ9AYOl3s5dNKrjTFoGWuiRbQJnV9GQkWpTN3ZWJJ4hOQaOstEegyR7r8Q5zBEiHNoaSj/bbYo/AYzqiQhqSp6jxP52zUVgrxiBYYDB4I3gcqEIMUDryevz7XkdeqGZDTSKsZEsk1PXklFLmeqJW/R+X0VLee4BL4+7OKYs2arG6li9HVVCznVZmBgy2g2HHWQHmdm7VEnTlnVRmub9TpijDr8qsLlSTb2lHjwKQpqtRa9xaCrsV5xFWc6xqChzsG5ItL9pxHEEOn+N3pxXrx4MUuWLAkoS01N5Y033gDA6/WyYMECNmzYgM/nIysrizFjxhAfH6/ZFxcXM3PmTHJzc7FYLPTq1Ythw4ah1+s1m9zcXBYsWMChQ4dITEzk9ttvp3fv3lr9mSDEObScbf+tVht+s439ZT4OFNhJWLuaNqu/pOWaFRhPHA82B+DERR05Puh6dLfeSnaTCyj3V2TTSqhsuXr9NRdbqEp7qpc9mjh/edDJiaClEqFCnOHXZRebmvUMahmFQ1ZwyCpRRj3HXBUDyKBikFZalBGrXmLHcTceRUGn/NpqPtvT4M72OTjXRLr/NIIYIt3/80KcN2/ezF/+8hetTKfTERsbC8DMmTPZtm0bEyZMwGazMXv2bHQ6HS+88AIAiqLwxBNPEB8fz8iRIykpKWH69On069ePYcOGAVBYWMhjjz3GgAED6Nu3Lzk5OcybN4+nnnqKzp07a99bX4Q4h5az6b/VasNhL+fn9z8hbdWXtNr0LUZ3zbzUql6P76qr2NVzIPt7D8LVoiVdU2JYc8RJqVfV+of1kkSiRV+RBlUFm0Gid4soth4tI9YU2HI2x8Tx30KZX8rqEMtKgVaAVtFGOieY2HPcVbmClBGjDlz+iiQhDp8fVVFJsJkodsnkl3nwyv4GmwZ3Ns9BKIh0/2kEMUS6/+dSnE+dGqoB0el0xMfHa58qYXY6nXzzzTfce++9dOzYkbZt2/Lggw+ye/du9lTOGf3xxx/Jz8/n4YcfJj09nS5dujB06FCys7ORK1/prVixgqSkJO655x7S0tIYPHgwPXr04IsvvgjwQ3D+oN+/n6h//YvoG28ktV1rev3lES5YszxAmL1WG3v638ial9+h5JfD/PTR5+QMG4MjtSVJViMFTj9OWUVf7c7xqxXLK5orl0B0yioFTj9JVmONtKeqx03bWGONdYc1KvNiGyVoH2ci0ahyeVMD8aobj72Y8hPF6F1lRKtekowqySYFs7uMFpKLbgl6eja30L2pgTSDV6xXLBBEMCET54KCAh544AEeeugh3nrrLYqLiwHIy8vD7/eTmZmp2bZo0YKmTZtq4rxnzx5atWoV8Jq7c+fOuFwuDh06BMDevXsD9gGQlZWl7aMufD4fTqdT+7hcNVtUgghBUTBu3078a38nqV9/ml91FXEvvIBx/Tp01QZMORKbsfO2kXz61gfMWP0/vnx1NtsH38Evplhc1QZoJdiMFa+UVbXyxvlVYF2ygrGaYh8s85IUbaqR9tTr9dDCqiMlSl+nQOskiWSbnhYWCddJOz5neY19+JzlyI6TWl1tZQKBIHIJyWvtH374AbfbTWpqKiUlJSxZsoQTJ07w97//ne+//5533nmHDz74IGCbSZMm0aFDB0aMGMGMGTMoLi5m8uTJWr3H42HkyJFMmjSJLl26MHHiRHr37s2tt96q2Wzbto1XXnmFhQsXYjKZtPLqBPeHt2nThqlTp2K32/H7a+knjBCMRmODvJY3GAz4dQZUJCRU9Iqsvb04m9Tbf68X47p1mL76ClN2NrojR4ItADiR3o68Ptfyc+9rOZp5GehqPqe2iTXRNsbIziIHAJnNbGwpdFPmU6oGS1dOfwKDDuJNFRm1oOL/17WKxuRz4vf7A/zX6/U49BY2FbqxexXcslKRM0QCq0FHnElHjyQLUX53WF1z9T4HYUqk+08jiCHS/dfr9QGNwoYkJOIcjMPh4MEHH+Tee+/FZDKFVJx9Pl/AxSNJElarVfQ5B3GuU36eyn/p5EnMq1dXjLD+5ht0ZbUnBCnudBnG229lRZd+HGhxAaYqPa7jFkiNNtIp0cLWIxVrWF/S1MaukoqlFSGwf1gvQYxRh8unYDHoSLbp6ZFgwFNeCrX4r2UXcykVOaaVikUj0qIMpFp1Z/34nQ2CY4g0It1/GkEMke7/edHnXJ2oqChSU1MpKCggPj4eWZZxOCpaK1WUlpZqTyzx8fHY7YFTQ0pLK34Eq9tUlVW3sVqtdQozlQffZrNpH6vVGmxy3lO1WMa3R5zkHHdh98g4fAp2j0zOcRffHnHiNtkqBKiB0B09im3+fBKGDSO5UycSHnwQ22efBQiz32Tm8NX92fTca/zf6h1kv/8FpY88ird9BqBWjoquGx1gq7Ys0wmnj1Yx1WKq7B/WVSYNsegh3iRhkRRaWHSoXvevtkH4fBV9wi10Hro10XFlUwPdmuhoofOIvmKBQBAe4ux2uzVhbtu2LXq9np07d2r1R44cobi4mIyMDAAyMjI4ePBggPju2LEDq9VKWloaAO3btw/YR5VN1T4EvwNLxSpWXr9Css3IJU1tdEqK4pKmNpJtRrx+hc0FTrDYgresgclkxhoThykuAVNcAuaYOEwmc7CZlhAk+q23aHr99SR37Ur8009j+fZbpGpvNJT4eNx33sn+me/xn3U/sfrd99l3x0jcTZMAKHZ6aRdXtf+KRBtVLeBg0mOMxBoqpiQBFLp8JNv02AyB9jrAogPFJ6P6/Zh11OhrrgvRVywQCGpD/9xzzz0XXNjQLFiwAKPRiKqq5OfnM3PmTEpLSxk3bhzR0dGUlJSQnZ1N69atKS8v59///jeJiYnceeedADRv3pzNmzezc+dOWrVqxYEDB5gzZw4DBgzQpkklJyfzySef4HQ6SUxMZOPGjXz++eeMHj2a5OTkII9Oj9PpRKk2iCjSMBgMZ6X/0mQyc9ijw6tAh2ZRuBSJfaVeDpbLlHgUEmwmMhIsOLwKKhJNjFLA95pMZnRmKyaLDWNUNB69mQMOhVy7j30n/RR4VPQmC/FRNnQ+L4ZNm4iaM4eYp54i5s03Ma9fj74gcGEJOTUV5x13cHLSJEqnTEG+cyg/JF2AU2cIsAOwe2SykqLYX5l7WlVrrllMZUu4R3MrfkcZyXE2jjllfIqKR1bp2NRGgdOHT6kYvNXEokNSFFBVbW6xweNEUX6N+2wd/1AS6TFEuv80ghgi3X+9Xk9U1K8ZABuSkPQ5v/HGG/z000+UlZURGxvLRRddxF133aWJZlUSkvXr1yPLcq1JSIqKipg1axa5ubmYzWZ69erF8OHDayQhmT9/Pvn5+SIJyVnq6zHaotldptLEZmL9UQfOyilEJr0Og65iyUCzTuLyJCsOj49kk4LPWa4l/TjilCn3KqREGfEoKtuL3ZR6FVyygqKCye2k3da1XPTtV7RcswJ9cVGwCwD4LrkE96BBuAYPRu7QIaD1a4iKZf0xN46qtYyDuCDeQnKMmeUHyyn3qRh1gf3O0UYdA1tFEyO7cLmcNfrXo006WsVaOO7xU+iS8cl+DHDK/vazdfxDSaTHEOn+0whiiHT/z2Wfc0jEORI5n8W5eppHncGA0y+x5mg5zS1G2sSasBh0qKg4vSqyomAz6THqJGwGCYukoigKJ2SJzcdcOP0KPZOj0Emw5ZiLw04Z04njtF+7gnbfLqfNxtV1JgTxdu+Oe9Ag3IMG4W/ZMthEw2iLZnOxXJEUpA4uiLeQHm/lYLmP/Se9uGUFi16iXZyJ9Bgjeo8Tl6tyacVKgtNdGlHxIdUr/eXvOf7hQqTHEOn+0whiiHT/hTiHIY1FnIMF5lSCUr3FeKTcR6zFQOs4M1a9BJKEokKpV2H/SQ8nPAoxRh1JNiPJVj12rx9UiWijRKxJz+rD5Rx1+WlXufyg4cB+ihd9zAVrviJt++aAecdVeK02nP0Gor92IL6BA3DbTt+HTaWI5ssmco7XFPnqGHRwdWoMVqMORa1YnUkve3A6Awcjng0i/UeJRhBDpPtPI4gh0v0X4hyGRLo422w2fHpTjalPLaONtIoxoPgV/OqvKxDp9Qa8JgvFLj8GnUSSVY9XrUhVqQN0ErgVMEgqigoqEiUePyadxC/lPuwehRMeP6lRepqYDPxc6iEh5wc6rMsmKfsLLD/lBrsIgCOhGft6DWJfr8H80r0XbZJiuKaZAbzuM7qpjTHxFaPGK1dyqo1TLQpxton0HyUaQQyR7j+NIIZI91+IcxgSyeJsNJrwmKPYdNSB16+QZDWSYDMSbdSTYNHjUypakSBVpKVUK9YVdvpBp4JOJ2H3yuSV+nD7KzJKt48z0txmZP9JL4cdMhJg1Us0seiJNurZcdyNz+Xhsp+2YFj6GS2++YrYY7UnBDne+gL29r6Ovb0Hc7TjZah6PVJl/q3mNj3XpVmR3I4zuqmrpnttLqhdoM/2ohCnI9J/lGgEMUS6/zSCGCLdfyHOYUhEi3NMPGuPurAZdLRtYqHA6cfrV0iPM+Pw+Yky6ilyyRS5/Th9KkgqqTYjyTYDTtmP1aDnpMePzagjr9SLU1bIaGJmY4ETi15HmU/Bp6gkmPXYXGU0Xf01l25YQcyK5RjLKxJ4BFOY1ZXcXoPZ2+taTrT5dXpbVeYtXeX/06L1DEy1whmKM0Gv5c9FopRTEek/SjSCGCLdfxpBDJHuvxDnMCTSxLmqb9lgMHDQpXLM6aNFtJnvCp00tRhoE2dmj91NeqyZ7wpd6CWJUm/FFIeqQc7RBokrU2zss3toF29mn91D+3gzTUw6lv5SjkNW0UvQ6mQh8dlfkrHmK1p9txZ9LcdJNpr4pfs1OK+7gSZ33MzPUU3ZeKyqT/jXkdbVxdmggx5JVi6OBuUMX2tX50z62RuKSP9RohHEEOn+0whiiHT/hTiHIZEizsGtxdZxZn6ye+maZOO7QhdlssJVyTbWHnXSo7mNb484sBl0HPf40Uu/5oqmUiCtBoneqVH896iDa1Ki2FLopH+LKL75eitt1nxFxpqvSM3ZFuRFBb7YOOz9B3N04A2s7HAVvqhoYkwS17eMRpUkPj9wEoesauJcJdEqoAfiTBLXt47B7C5DkipStEYqkf6jRCOIIdL9pxHEEOn+C3EOQyJBnGvrZ+2UFIXDp2AwGPj2iIP0aCPNbAYKnTJNLHpyT3gw6SXKvAo6CeRqV0NVK7ZrMwvHHV7a5m4lYfkyUlZ+hW3/vl8Nq3EyuQX5fa8jr9+1FF3ek47No7Hodaw54sAlq1gMEm2iDHRPtlHglPn2qANH5Yyn6q3meJPE1Sk2ks3gKi2J+Js60v2nEcQQ6f7TCGKIdP+FOIchESHOtYxQ7tDURvMoEyvyHRS5/FyRbGX/SS/psSb2lnrxKSoOn4IKyNVazQAGt4s2m78lc+1y0r/NxnS8YlnPYArbdyC//3X8eNUgTlzSiSZmA361YuBYl6YW/mf30jHBzKZjTnx+MBskWkUb6JRgoVxWyS/3cbDch8evYtNLpMeaSLXpidar6N0OfD5vxN/Uke4/jSCGSPefRhBDpPsvxDkMCXdxrmtu78UJFhKizHx10IHLr9Az2UbOcTcdEy1sK3Jj1FXMVZakCnE220/Qbu0K2q+pSAhicgcm4gBQdDrKe1zFlisGsLf3tbhatibGqOO4R8GigxiTHllVseol2sSa2FjgIi3aQNdmVkq9CvtKPdi9flpFG+mcaMElK1Qt9KSTwCQpxBkIGLAV6Td1pPtPI4gh0v2nEcQQ6f4LcQ5Dwl2c68qK1aGpDaPBwJYiFyUeP92SKlrObaq1nA3782i7enlFQpAfNtWaEMRvtXHoqr74briJXVf0JyEtifUFFQ8C8SYdPkXFKavEm3TodeD1q1zUxEyRy0++w0czi4EYA1yVYkNWJJx+hbLKlaxsOonkKAM2g4Qky6hed40BW5F+U0e6/zSCGCLdfxpBDJHuvxDnMCTcxbmufNKdkqIocPkxG/RsLXLRIspIkkWHf+s2LljzFbFffk7TvbsCtqnCkdCMfdcMRL35ZvZ2vZom8dEUu/1kxJn4pczL7lIfegmaWfQcc/kx6CDRXJHb3Ckr9EqNYtOxiulWUXqVrkk2YvUKPkVCL6n4VQlVVVD98mlHUEf6TR3p/tMIYoh0/2kEMUS6/0Kcw5BwF+e6Ws6XNLXxP7uXzvFG9n/+NS1WfsEla7MxHTkcYFfFiVZt2dP7Ovb2uZaCjpdhNRvoVW209sZjDvqkRuOQFTZUm+csqxXznE06CYMEWU2tHHP6cPoUUm06Uq263zWvONJv6kj3n0YQQ6T7TyOIIdL9F+IchoS7ONfW52wsL+Pi774leVU28auWYyqrPSHIsU6XcbDf9eRePYgTbdrjUyUkwGaQuCrFxoGTXi6IM3OgzEO7WDNHnT4SLfqADGF6ScKsg5ZRBlKjDehVFdnvr1eruD5E+k0d6f7TCGKIdP9pBDFEuv9CnMOQcBdngkZrp/53Jb0mjkJfS0tVMZkovuIalJtv5viAazG3TKPI5afIJeP0V7wWbxFVsUCFU/YTYzSgKArxFgOoKpIE+sppVyYJ/KqKX5bPmhDXRqTf1JHuP40ghkj3n0YQQ6T7L8Q5DIkIca42z5mCAm7v0wmp8vT6Y+PYf1U/jg64Hv+AAcQlJSJR0dq1GCTiTXqUytHSilox11ihQoQVv4LO50aW5ZBl2or0mzrS/acRxBDp/tMIYoh0/4U4hyGRIM5UCnRVhrCk0SNxJTalqP91JA7qS5NYG4fLvRw66cWnKJgMetJiTLSIMqKXvUiKv97rE59rIv2mjnT/aQQxRLr/NIIYIt1/Ic5hSKSIcxXB+aRNkorD4ahRHk4CfCoi/aaOdP9pBDFEuv80ghgi3f9zKc664AJB48Dr9eBzliM7Tlb8K1eM4g4ujwRhFggEgvON80acly9fzoQJExg+fDhPP/00+/bVnhtaIBAIBIJQc16I84YNG1iwYAF33HEHU6dOpXXr1rz44ouUlpYGmwoEAoFAEHLOC3FetmwZ/fr1o0+fPqSlpTF27FhMJhOrV68ONhUIBAKBIOQ0+gFhsiwzYsQIHn30Ubp166aVT58+HafTyZ///OcAe5/PFzDwS5IkrFYrJSUlWr9tJGI0GiNqQFswwv/QE+kxRLr/NIIYIt1/g8FAkyZNgosbhEYvzidOnGD8+PFMmTKFjIwMrXzhwoXs2rWLl156KcB+8eLFLFmyRPu7Z8+eTJw4McBGIBAIBOcvPp8Po9EYXHxWOS9ea58Jt956K/PmzdM+I0aM4M0338TlClyKMZJwuVw8+eSTERuD8D/0RHoMLpeLp556Cqez5hKokUKkxxDp/lMZw1tvvYXXWzPz4tmm0YtzbGwsOp0Ou90eUG6324mPjw8oo/K1i81m0z5Wq5X169cTyS8YVFVl//79ERuD8D/0RHoMke4/jSCGSPefyhjWr18fXNwgNHpxNhgMtG3blpycHK1MURRycnICXnMLBAKBQBAuNHpxBrjhhhtYtWoVa9asIT8/n1mzZuHxeOjdu3ewqUAgEAgEIUf/3HPPPRdc2Nho2bIlUVFRfPzxx3z++ecAPPLII7Ro0SLYtFZ0Oh0dOnRAr9cHV0UMkR6D8D/0RHoMkiTRsWPHiPWfRhCDTqfjkksuiVj/OYcxNPrR2gKBQCAQRBrnxWttgUAgEAgiCSHOAoFAIBCEGUKcBQKBQCAIM4Q4CwQCgUAQZogBYadh+fLlfP7559jtdlq3bs3o0aNp165dsNlZZdeuXSxdupT9+/dTUlLC448/HpAXXFVVFi9ezKpVq3A4HFx00UWMGTOGlJQUzaa8vJw5c+bw/fffI0kS3bt3Z9SoUVgsFs3ml19+Yfbs2fz888/ExsYyePBgbr75Zq0eYOPGjSxatIiioiKSk5MZPnw4l156aYBNMJ988glbtmzh8OHDmEwmMjIyGDFiBKmpqZqN1+tlwYIFbNiwAZ/PR1ZWFmPGjAlIDFNcXMzMmTPJzc3FYrHQq1cvhg0bFjBKMjc3lwULFnDo0CESExO5/fbba0yR+y3ncMWKFaxYsYKioiIA0tLSuOOOO+jSpQtEgP/BfPrpp3zwwQdcd9113HfffRABMQSn0gVITU3lH//4B5IkhdT/UaNG0b59+wCb2jhx4gQLFy5k+/bteDwekpOT+cMf/qDFrqoq//nPf1i5cqV2L99///0B90p5eTlz585l69at2r183333YbVaNZtffvmFOXPmsG/fPu1evummm5AkSbPZuHEjixcvprCwkOTkZIYNG8Zll12m1Qfz0EMPUVhYGFzMwIEDuf/++/H5fLz33nusX79eO/73339/QO7p4uJiZs2aRU5Ojnb87777bgwGg2aTm5vLe++9x8GDB0lMTOS2226jT58+Wj1AdnY2n3/+OSUlJWd0/BVF4T//+Q9r166lpKSEhIQErrnmGm6//XZ0uoq2adU5WLVqFeXl5fU6B926dWPUqFGnPAeDBg3i5ptvDjgHmzZtYtGiRfU6B+fFVKrfyoYNG5g5cyYjR45k6NChFBYW8uGHH9KnT58AkTvb5Ofn4/f76devHxs2bODKK68MmPb12WefsWzZMsaPH89NN93E//73P5YtW0b//v21H53XXnuNY8eO8ac//YmePXvy1VdfkZeXR48ePQBwOp08/fTTtGnThocffpjWrVszf/58YmNjadu2LQC7d+/mlVde4aabbuKee+7B7/czZ84cunXrRlxcnOZPMB9//DF9+vThjjvu4Oqrr2bHjh3aymBVN+WcOXPYtm0bEydOZODAgWzYsIFNmzbRt29fqLyp/vrXv2IymfjTn/5EZmYmixcvxul0kpmZCUBhYSF//etf6dGjB+PGjSM+Pp5Zs2bRrl07kpOT4Xecw5KSEjp16sStt95Kv379cLlczJkzh+7duxMXFxf2/ldn3759vP/++zRr1oykpCQ6d+4MYXAOevfufcoYcnNzKSsr47XXXuPGG2/kxhtvpG/fvto2dfnfp08fJElCURSeffbZ0/r/7LPP1vD/ggsu0B52N2zYwKxZsxgxYsQZ+V9eXs7kyZNp3rw59913HzfffDMXXHABCQkJREdHQ+W9/Pnnn/PAAw9w8803s3v37hr3yt///ncKCgr44x//SM+ePVm+fDl5eXl0794dSZJwOp1MnjyZ9PR0HnroIdLT01mwYAExMTFccMEFUHkvT506lRtuuEG7l+fNm0fXrl1rzZQIcNVVV3HDDTdoxz4rK4u1a9cyfPhwmjdvzty5c/n+++955JFHGDhwIBs3bqz1+BuNRv74xz/SqVMn/vOf/+B0OunYsSOSJGnHv1u3btrxnzNnTq3Hf/jw4dx1110UFRXV6/hT+VC6fPlyxo4dy5AhQ2jZsiUffPABZrOZ9u3bI0kSS5cuZdmyZYwbN+6snoP33nuPmJgY2rZtiyRJNc6BoijMnTu37nOgCupk0qRJ6qxZs7S//X6/Om7cOPWTTz4JsGtI7rzzTnXz5s3a34qiqGPHjlU/++wzrczhcKjDhg1T161bp6qqqh46dEi988471X379mk2P/zwgzpkyBD1+PHjqqqqanZ2tnrfffepPp9Ps1m4cKE6ceJE7e/XX39dffnll7W/VVVVn376aXXGjBkBZaejtLRUvfPOO9Xc3FxVrfT3rrvuUjdu3KjZ5Ofnq3feeae6e/duVVVVddu2beqQIUPUkpISzSY7O1u95557NJ/fe+899dFHH9XqVVVV//GPf6hTpkzR/j6b5/C+++5TV61aFVH+u1wu9ZFHHlF//PFH9dlnn1Xnzp2rqmfhHHi9XlX9HTE88MADp41h0aJF6uOPP64qihJcpTocDvXuu++u4f+QIUPU//3vf6pa6f/QoUPVEydOaDZ1+V/9O9544w11ypQpWtnTTz/9m/xfuHCh+pe//KVW/9XKe3ncuHE17uXhw4era9euVdXKe3nIkCHq3r17NZsffvhBHTp0qFpcXKyqlTGNGjVKi0lVVfX9999XJ06cqH33P/7xD/Xll18O8GXy5MnqjBkz6vQvmHnz5qkPPfSQ6vf7teO/YcMGrb4+x3/FihXqvffeq/m6cOHCeh//qr+rjv/HH398Wt9feeUV9Z133gmwe+2119Q333xTVRRFOweffvqpZlP9HCiKUq9zsGLFirN+DkSfcx3IskxeXp72hE3l5PPMzEz27NkTYHsuKSwsxG6306lTJ63MZrPRrl07za89e/YQFRWlPTUDZGZmIkkS+/bt02wuvvjigNdLWVlZHDlyhPLycs2mevxVNnv37g0oOx1Vie6rWgt5eXn4/f6Afbdo0YKmTZsGxNCqVauAJ8rOnTvjcrk4dOgQAHv37q3Vv6p9nK1zqCgK69evx+PxkJGREVH+z5o1iy5dugRcL5yFc5Cfnw+niUFVVWRZZv/+/TVi6NixY71iKCgoYPz48Tz00EO89dZbFBcXQzX/O3bsqNlW+V91fe7Zs4eWLVvW8N/tdmvnYN++fdq9UUWnTp1qnIPq31P9HJyqV/D777+nbdu2/OMf/2DMmDH8+c9/ZuXKlVp91b1c/dhU3ct79+5FVVX21ONe3rt3LxdddFHAvdypUyeOHj1a416uHueZ3MuyLLN27Vp69+6NJEmnvX5UVWXv3r01jn9WVla97oEqv6of/yrfq45/fXzPyMggNzeXI0eOAHDgwAF2796tvT2q/ntatf/q54BKH2s7Bzqdjn379mnnqT7noPp1RGWsVecxGCHOdXDy5EkURanxuiE+Pr7GIhrnkqrvDn6tHBcXp9XZ7XZiY2MD6vV6PdHR0QE2tcVWVVf176m+pz4oisK8efO48MILadWqFVTu12AwEBUVFWAbHEOwf1W+nM4/l8uF1+v93efw4MGDjBw5kmHDhjFz5kwef/xx0tLSIsb/9evXs3//foYNGxZcFTYxnErc2rdvz4MPPsjTTz/NmDFjtFfoTqcTu92OXq9vMP/dbvcp/a/+PXVRWFjI119/TXJyMpMnT2bgwIHMmzeP1atXQzUfavv+6v7FxMQE1P/Wezn4NyE2NpbS0tKAsrrYsmULDodDE2f7Ka6fqn3W5ld9jn9sbGy9r5/TcfPNN3PllVfy2GOPcffdd/Pkk08yePBgrr76ai0O6nEOgo9d1bV3JuegtLS0zu+p7T4Q4ixoUGbPns2hQ4f44x//GFwV9qSmpvLqq6/y0ksvMXDgQN5++22txRjuFBcXM2/ePB555BFMJlNwdUTQpUsXrrjiClq3bk3nzp2ZNGkSTqeTTZs2BZuGJYqi0KZNG+6++27atGlD//796devHytXrqz1xzicWbNmDVlZWSQkJARXhTUbN25k3bp1PPTQQ0ydOpUJEybwxRdfsGbNmrA/B0Kc6+BMl5o8V1R9d/ATb2lpqVYXHx/PyZMnA+r9fj/l5eUBNrXFVlVX9e+pvud0zJ49m23btvHss8+SmJiolcfHxyPLMg6HI8A+OIZg/6p8OZ1/VqsVk8n0u8+hwWAgOTmZtm3bMmzYMNLT0/nyyy8jwv+8vDxKS0t58sknueuuu7jrrrvYtWsXX331FXfddRdxcXFhEUP116ynIyoqitTUVAoKCoiPj8fv9zeY/xaL5ZT+V/+eumjSpAlpaWkBZS1atNBezVdtX9v3V/evrKwsoP633svBvwknT56s0ZKrjaKiInbs2EHfvn218xV/inugap+1+VWf43/y5Ml6Xz+n4/333+fGG2+kZ8+etGrVimuuuYbrr7+epUuXwhmcg+BjV3Xtnck5qP5WoYqq76ntPhDiXAfhutRkUlIS8fHx7Ny5UytzOp3s27dP8ysjIwOHw0FeXp5mk5OTg6qq2hSOjIwMfvrpJ2RZ1mx27NhBamqq1jeckZER8D1VNqebwqCqKrNnz2bLli389a9/JSkpKaC+bdu26PX6gH0fOXKE4uLigBgOHjwYcDHv2LEDq9Wq/eC1b9++Vv+q9nG2z6GiKPh8vojwPzMzk9dee41p06ZpnwsuuICrrrpK+//viaFq9sCpYpAkCYPBQJs2bWrEkJube9oYgnG73ZowV52D6vut8r/q+szIyODQoUM1/LdYLNo5aNeuHTt37gxoRe3cubPGOcjNzdXqq5+D2n5Uq7jwwgu1vs4qjh49SrNmzaDavVw9hqp7uWokcUY97uX27dvzv//9L+Be3rlzJykpKTXu5epx1udeprLVHBsbGzCF8nT3gCRJtG/fvtbjX597oMqv6se/yveq418f3z0ejzZlqgqdTqftq/rvaVVZ9XNApY+1nQNFUWjXrp12nmo7B8G/p9XPNZWx1jWlUEylOgVWq5VFixaRmJiIwWBg0aJFHDhwgPHjx592CP/vwe12k5+fj91u5+uvv6Zdu3aYTCZkWSYqKgq/38+nn35KWloasiwzZ84cvF4vo0ePRq/XExsby969e1m/fj1t2rShsLCQmTNn0qlTJ23+YEpKCitWrCA/P5+UlBRyc3P58MMPGTJkiDaVKiEhgUWLFmE2m4mOjmb58uVs2LCBP/zhD6d84p49ezbr1q3jscceIyEhAbfbjdvtRqfTodfrMRqNlJSUkJ2dTevWrSkvL+ff//43iYmJ3HnnnQA0b96czZs3s3PnTlq1asWBAweYM2cOAwYM0AZzJCcn88knn+B0OklMTGTjxo18/vnnjB49WpvG81vP4QcffIBer0dVVY4fP84XX3zBunXrGDFiBGlpaWHvv9FoJC4uLuCzbt06mjdvTq9evcLiHDzwwAMB80SDWbBgAUajEVVVyc/PZ+bMmZSWljJ27FhiYmI4ceJEnf5LklRv/z/99NMa/o8aNUqbymO1Wlm8eDEJCQln5H9iYiL/93//h06no0mTJmzfvp0lS5Zw5513kp6ejiRJ2r3cokUL/H4/c+fOxePxMGrUKAwGA7Gxsezbt4/169eTnp5OUVERs2bNIjMzU+v/rX4vJycnk5uby0cffcQdd9yhDWJq0qQJixcvxmQyaffyxo0beeCBB07ZAlUUhXfffZerr76arKws7WGk+vXTqlUrHA4HM2fOJCEhodbj37JlS3755Rfmzp1L//79tX1VHX+Hw6Ed/2XLlnHffffVevyNRiOLFy9m//79pz3+AIcPH+bbb78lNTUVg8Gg/c5dccUV2iAwRVH47LPPGuwcVE2lCj4H2dnZbNiwoc5zIJKQnIbly5ezdOlS7HY76enp9Z78/nvIzc3l+eefDy6mV69eTJgwAbUyCcnKlStxOp11TpqfPXt2QBKS0aNHB/ygV09CEhMTw+DBg7nlllu0eir7bD766COKiopISUmpVxKSIUOGBBcB8OCDD2rJHaoSSKxfvx5ZlmtNIFF1E+Tm5mI2m+nVqxfDhw+vkUBi/vz55Ofnk3iKBBJneg7fffddcnJyKCkpwWaz0bp1a26++WZt1HO4+18bzz33HOnp6TWSkIRrDG+88QY//fQTZWVlxMbGctFFF3HXXXdpoh9K/++77756tfy///57PvjgAwoKCkhKSuL666+nf//+Wr1amQDj66+/1u7l0aNHB+Q1qEooVD0JyakSYFTdy8EJMKoSChUWFpKSknLKBBhV/Pjjj7z00ku8/vrrNZbY9Xq9vPfee6xbt047/sFJSIqKipg9ezY5OTna8R82bBiGoCQk1ZPA1JWEZOnSpZSUlJzR8Xe5XCxevJjNmzdTWlpKQkICPXv25Pbbb8doNEIdiWBOdw66devG6NGjT3kOBg0axC233BJwDjZt2sRHH31Ur3MgxFkgEAgEgjBD9DkLBAKBQBBmCHEWCAQCgSDMEOIsEAgEAkGYIcRZIBAIBIIwQ4izQCAQCARhhhBngUAgEAjCDCHOAoFAIBCEGUKcBQKBQCAIM0QSEkHE4vf7+fjjj1m/fj16vR6dTke7du0YMWJEjaXsIpE1a9Ywd+5ckpKSUBSF2NhYxo4dG5AJTiAQNE6EOAsilunTp1NeXs5DDz1EdHQ0qqqyadMm2rZtS/PmzYPNI441a9awZcsW/vznP0NlrunDhw8zadKkYFOBQNDIEOIsiEgKCgp4/PHHeeedd2oshF7F0qVLWbNmDZIk0bp1a8aMGYPNZmPx4sXk5+fj9Xo5evSoluP2vffeo7CwkDZt2vDII4+g0+l4++23kSSJI0eOUFZWRvv27Rk3bhwmk4l169bx5ZdfIssyqqoydOhQunbtCpV5rNu2bcu+ffsoKSkhMzOTcePGceLECZ588kmmT5+O2WwG4M033+Tiiy9m4MCBAf4Hi/MPP/zAe++9x+uvvw7Af//7X5YvX47f78disTBq1CjS09OZOHEijzzyiLbowZo1a/juu+944oknsNvtzJkzh6KiIrxeL5dffjl33XUXABMmTOCaa65hx44d2O12+vbty+233w6V8Vx33XV069YNgL///e9cdtll9O7dG5fLxfz58/nll1/w+Xy0b9+e+++/PyB/skAgODNEn7MgIsnLyyMlJaVOYf7hhx9YvXo1L7zwAn//+98xm828//77Wn1eXh4PPfQQb7zxBi6XixkzZvDoo4/y+uuvc/jwYbZv367Z7tu3j8mTJ/OPf/yD8vJyli1bBkBWVhYvvvgi06ZN44knnmDGjBn4fD5tu2PHjvHss8/y97//nR9//JE9e/aQkJBAZmYma9euhco1X3fu3Mk111yjbVcbiqKwZcsWrrzySgD+97//sX79ep5//nmmTp3KXXfdxVtvvQWVC6SsWbNG23b16tXaQgJvv/02gwcP5uWXX2batGn8/PPPbNy4UbN1OBy8+OKLvPzyyyxdupQTJ05odXWxYMECLr74Yl5++WVeffVVVFXlyy+/DDYTCARngBBnQaNk586dXHHFFVrf88CBA9mxY4dW36lTJ6Kjo5EkiTZt2nDJJZdgtVrR6/W0adOGo0eParZXXHEFVqsVnU5H3759tfVnCwsLeemll3jsscd49dVXKS8vp7CwUNvuyiuvRK/XYzKZSE9Pp6CgAIDrrruO7OxsAFatWkXPnj3rXP4xNzeXJ574//buL5S9Nw7g+DtqliQhk3axLBdaS6uJCxq5UCT3crEocqPsOEvLnXZ1LP9alsSdcodbiiWsrBQTF5bdbSvcGBaZ3808/bb4tt+fvn3V86rVnj3PeTrPudjnPJ9z6qMyPDxMJBKhu7sbgHA4TCwWw+PxoKoqa2trpFIpXl9fcTgcHB8f8/b2RjKZJB6PY7PZSKfTXFxcsL6+jqqqTE1NkUgkcmoOt7W1AVBeXo7BYMhZz3fC4TA7Ozuoqorb7ebq6kqsVZKkf0cGZ+lHqq+vJx6P8/j4mN/1pb+XbQPQ6XTie1FRkSgf99l+f38X7Xyfc83Pz9PV1YXP50PTNPR6fc7OOX/OTCYDIOpzRyIR9vb2RMD9isViQdM0AoEAdXV1rK6uQrbMncPhQNM08VlZWUGn01FVVYXZbOb09JRgMEh7e3tOiUSv1yuOWVpaEqlrvrgun9ehuLhYnD+Qs86Pjw9xg6JpGgsLC4yMjIh+SZL+ORmcpR+ptraWlpYWlpeXeXp6gmyQCIVCJJNJrFYrJycnPD8/A7C7u0tTU1PeLIUJhUKk02kymQwHBwdYrVbIpoBramog+/z38zwK0dPTg9/vx2g0FvT2dUlJCaOjo5ydnXF7e4vdbufw8JC7uzvIpr2j0agY39HRwf7+PsFgUKS09Xo9FouFra0tMe7h4YH7+3vR/o7BYODm5gayGYPr62vRZ7fb2d7eFoE8lUrJnbMk/UcyOEs/1tjYGCaTCY/Hg8vlwuVycX5+TllZGTabjc7OTqanp1EUhZeXFwYGBvKnKIjZbMbr9TIxMUFpaSm9vb0AOJ1OfD4fbrebWCxGdXV1/qHfam1tJZ1O/3LXnK+yspK+vj42NzdpbGxkcHAQTdNQVRVFUTg6OhJjm5ubiUajVFRUYDQaxe/j4+MkEgkURUFRFHw+X0HZh/7+fi4vL1EUhY2NDRoaGkSf0+lEp9PhdruZnJxkZmamoHS4JEnfk29rS9Iv+P1+TCaTCMj/l2g0yuLiInNzcxQVyXtkSZJyyX8FSfrNAoEAs7OzDA0NycAsSdKX5M5ZkiRJkv4wfwGQvsD9bOy25gAAAABJRU5ErkJggg==)"
      ],
      "metadata": {
        "id": "NLmrwS58T4h0"
      }
    }
  ]
}